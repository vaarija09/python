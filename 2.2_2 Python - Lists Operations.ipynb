{
 "cells": [
  {
   "cell_type": "markdown",
   "metadata": {},
   "source": [
    "# Python - Lists Operations"
   ]
  },
  {
   "cell_type": "markdown",
   "metadata": {},
   "source": [
    "<b> Operations on lists <b>"
   ]
  },
  {
   "cell_type": "markdown",
   "metadata": {},
   "source": [
    "Lists are mutable, i.e. the elements can be added, altered or removed from the list."
   ]
  },
  {
   "cell_type": "code",
   "execution_count": null,
   "metadata": {},
   "outputs": [],
   "source": [
    "my_list = [1 , 2, 3, 4, 5]\n",
    "my_list"
   ]
  },
  {
   "cell_type": "markdown",
   "metadata": {},
   "source": [
    "append() can be used to add an element to the list. "
   ]
  },
  {
   "cell_type": "code",
   "execution_count": null,
   "metadata": {},
   "outputs": [],
   "source": [
    "my_list.append(6) # add new element 6 at end of list\n",
    "my_list"
   ]
  },
  {
   "cell_type": "code",
   "execution_count": null,
   "metadata": {},
   "outputs": [],
   "source": [
    "my_list.append([7,8]) # add list as new element in list\n",
    "my_list"
   ]
  },
  {
   "cell_type": "markdown",
   "metadata": {},
   "source": [
    "extend() can also be used to add list of elements into list."
   ]
  },
  {
   "cell_type": "code",
   "execution_count": null,
   "metadata": {},
   "outputs": [],
   "source": [
    "my_new_list = [1 , 2, 3, 4, 5]\n",
    "my_new_list"
   ]
  },
  {
   "cell_type": "code",
   "execution_count": null,
   "metadata": {},
   "outputs": [],
   "source": [
    "my_new_list.extend([6])  # an element can be added into the list\n",
    "my_new_list"
   ]
  },
  {
   "cell_type": "code",
   "execution_count": null,
   "metadata": {},
   "outputs": [],
   "source": [
    "my_new_list.extend([7, 8, 9 ])  # list of elements can also be added into the list \n",
    "my_new_list"
   ]
  },
  {
   "cell_type": "markdown",
   "metadata": {},
   "source": [
    "insert() can be used to add an element at the desired position. "
   ]
  },
  {
   "cell_type": "code",
   "execution_count": null,
   "metadata": {},
   "outputs": [],
   "source": [
    "my_list = [1 , 2, 3, 4, 5]\n",
    "my_list"
   ]
  },
  {
   "cell_type": "code",
   "execution_count": null,
   "metadata": {},
   "outputs": [],
   "source": [
    "my_list.insert(0, 'a')  #insert 'a' at first position\n",
    "my_list"
   ]
  },
  {
   "cell_type": "code",
   "execution_count": null,
   "metadata": {},
   "outputs": [],
   "source": [
    "my_list.insert(len(my_list) , '*****')  #insert '***** at last position\n",
    "my_list"
   ]
  },
  {
   "cell_type": "markdown",
   "metadata": {},
   "source": [
    "remove() can be used to find the first occurance of the element and to remove it."
   ]
  },
  {
   "cell_type": "code",
   "execution_count": null,
   "metadata": {},
   "outputs": [],
   "source": [
    "my_list = [1 , 2, 3, 4, 5]\n",
    "my_list"
   ]
  },
  {
   "cell_type": "code",
   "execution_count": null,
   "metadata": {},
   "outputs": [],
   "source": [
    "my_list.remove(3) # find first occurance of '3' and remove it from the list\n",
    "my_list"
   ]
  },
  {
   "cell_type": "markdown",
   "metadata": {},
   "source": [
    "pop() can be used to remove an element from specified index and store its value in a variable. "
   ]
  },
  {
   "cell_type": "code",
   "execution_count": null,
   "metadata": {},
   "outputs": [],
   "source": [
    "my_list = [1 , 2, 3, 4, 5]\n",
    "my_list"
   ]
  },
  {
   "cell_type": "code",
   "execution_count": null,
   "metadata": {},
   "outputs": [],
   "source": [
    "popped_element = my_list.pop(4)\n",
    "print(\"list--->\", my_list)\n",
    "print(\"popped element--->\", popped_element)"
   ]
  },
  {
   "cell_type": "markdown",
   "metadata": {},
   "source": [
    "del() can also used to remove element from the list at specified location."
   ]
  },
  {
   "cell_type": "code",
   "execution_count": null,
   "metadata": {},
   "outputs": [],
   "source": [
    "my_list = [1 , 2, 3, 4, 5]\n",
    "my_list"
   ]
  },
  {
   "cell_type": "code",
   "execution_count": null,
   "metadata": {},
   "outputs": [],
   "source": [
    "del(my_list[1])  # removes the element at 1 index\n",
    "my_list"
   ]
  },
  {
   "cell_type": "markdown",
   "metadata": {},
   "source": [
    "Assignment operator can be used to alter the element of list at the desired index."
   ]
  },
  {
   "cell_type": "code",
   "execution_count": null,
   "metadata": {},
   "outputs": [],
   "source": [
    "my_list = [1 , 2, 3, 4, 5]\n",
    "my_list"
   ]
  },
  {
   "cell_type": "code",
   "execution_count": null,
   "metadata": {},
   "outputs": [],
   "source": [
    "my_list[0] = 1111  # change the element at first position to 1111\n",
    "my_list"
   ]
  },
  {
   "cell_type": "code",
   "execution_count": null,
   "metadata": {},
   "outputs": [],
   "source": [
    "my_list[2] = 'abcd'  # change the element at third position to 'abcd'\n",
    "my_list"
   ]
  },
  {
   "cell_type": "markdown",
   "metadata": {},
   "source": [
    "<b>List Methods<b>"
   ]
  },
  {
   "cell_type": "markdown",
   "metadata": {},
   "source": [
    "sort() can be used to sort the list elements. Default is ascending order."
   ]
  },
  {
   "cell_type": "code",
   "execution_count": null,
   "metadata": {},
   "outputs": [],
   "source": [
    "my_list = [11 , 2, 39, 4, 57]\n",
    "print(\"list before sorting--->\", my_list)\n",
    "\n",
    "print()\n",
    "\n",
    "my_list.sort()\n",
    "print(\"list after sorting--->\", my_list)"
   ]
  },
  {
   "cell_type": "markdown",
   "metadata": {},
   "source": [
    "sort order can be specified as argument. Default is reverse = false. Arranges elements in descending order"
   ]
  },
  {
   "cell_type": "code",
   "execution_count": null,
   "metadata": {},
   "outputs": [],
   "source": [
    "my_list = [11 , 2, 39, 4, 57]\n",
    "print(\"list before sorting--->\", my_list)\n",
    "\n",
    "print()\n",
    "\n",
    "my_list.sort(reverse=True)\n",
    "print(\"list after sorting--->\", my_list)"
   ]
  },
  {
   "cell_type": "markdown",
   "metadata": {},
   "source": [
    "Alternative way to get the sorted list using sorted() method. Original list is not modified."
   ]
  },
  {
   "cell_type": "code",
   "execution_count": null,
   "metadata": {},
   "outputs": [],
   "source": [
    "my_list = [11 , 2, 39, 4, 57]\n",
    "print(\"list before sorted--->\", my_list)\n",
    "\n",
    "print()\n",
    "\n",
    "print(\"list after reversing the order--->\", list(sorted(my_list)))"
   ]
  },
  {
   "cell_type": "markdown",
   "metadata": {},
   "source": [
    "reverse() can be used to reverse the order of list elements. "
   ]
  },
  {
   "cell_type": "code",
   "execution_count": null,
   "metadata": {},
   "outputs": [],
   "source": [
    "my_list = [11 , 2, 39, 4, 57]\n",
    "print(\"list before reversing the order--->\", my_list)\n",
    "\n",
    "print()\n",
    "\n",
    "my_list.reverse()\n",
    "print(\"list after reversing the order--->\", my_list)"
   ]
  },
  {
   "cell_type": "markdown",
   "metadata": {},
   "source": [
    "Alternative way to get the reversed list using reversed() method. Original list is not modified."
   ]
  },
  {
   "cell_type": "code",
   "execution_count": null,
   "metadata": {},
   "outputs": [],
   "source": [
    "my_list = [11 , 2, 39, 4, 57]\n",
    "print(\"list before reversing the order--->\", my_list)\n",
    "\n",
    "print()\n",
    "\n",
    "print(\"list after reversing the order--->\", list(reversed(my_list)))"
   ]
  },
  {
   "cell_type": "markdown",
   "metadata": {},
   "source": [
    "index(x) can be used to determine the location of first occurance of element 'x' in the list "
   ]
  },
  {
   "cell_type": "code",
   "execution_count": null,
   "metadata": {},
   "outputs": [],
   "source": [
    "my_list = [11 , 2, 39, 4, 57]\n",
    "my_list.index(39)  # find the location at which element 39 first occures"
   ]
  },
  {
   "cell_type": "code",
   "execution_count": null,
   "metadata": {},
   "outputs": [],
   "source": [
    "my_list = [11 , 2, 39, 4, 57]\n",
    "my_list.index(45)  # find the location at which element 45 first occures, throws error as element not present in the list"
   ]
  },
  {
   "cell_type": "markdown",
   "metadata": {},
   "source": [
    "count(x) can be used to determine the count of occurances of element 'x' in the list"
   ]
  },
  {
   "cell_type": "code",
   "execution_count": null,
   "metadata": {},
   "outputs": [],
   "source": [
    "my_list = [11 , 2, 39, 4, 57, 39, 34, 39 ]\n",
    "my_list.count(39)  # count the number of times 39 appears in the list"
   ]
  },
  {
   "cell_type": "code",
   "execution_count": null,
   "metadata": {},
   "outputs": [],
   "source": [
    "my_list = [11 , 2, 39, 4, 57, 39, 34, 39 ]\n",
    "my_list.count(9)  # count the number of times 9 appears in the list"
   ]
  },
  {
   "cell_type": "markdown",
   "metadata": {},
   "source": [
    "clear() can be used to remove all the elements of the list. "
   ]
  },
  {
   "cell_type": "code",
   "execution_count": null,
   "metadata": {},
   "outputs": [],
   "source": [
    "my_list = [11 , 2, 39, 4, 57, 39, 34, 39 ]\n",
    "print(\"Original list ---> \", my_list)\n",
    "\n",
    "my_list.clear()\n",
    "print(\"List after clearning the elements---> \", my_list)"
   ]
  },
  {
   "cell_type": "markdown",
   "metadata": {},
   "source": [
    "<b> Splitting <b>"
   ]
  },
  {
   "cell_type": "markdown",
   "metadata": {},
   "source": [
    "The split method returns a list of the words of string, assuming that words are separated by white spaces. "
   ]
  },
  {
   "cell_type": "code",
   "execution_count": null,
   "metadata": {},
   "outputs": [],
   "source": [
    "my_string = \"this is my string\"\n",
    "my_string"
   ]
  },
  {
   "cell_type": "code",
   "execution_count": null,
   "metadata": {},
   "outputs": [],
   "source": [
    "my_string.split()  # returns the list of words based on white space as delimeter"
   ]
  },
  {
   "cell_type": "code",
   "execution_count": null,
   "metadata": {},
   "outputs": [],
   "source": [
    "comma_separated_string = \"this, is, comma, separated, string\"\n",
    "comma_separated_string"
   ]
  },
  {
   "cell_type": "code",
   "execution_count": null,
   "metadata": {},
   "outputs": [],
   "source": [
    "list1 = comma_separated_string.split(',')  # returns the list of words based on comma as delimeter\n",
    "list1"
   ]
  },
  {
   "cell_type": "markdown",
   "metadata": {},
   "source": [
    "<b> List Comprehensions<b>"
   ]
  },
  {
   "cell_type": "markdown",
   "metadata": {},
   "source": [
    "List comprehensions are powerful way to create the lists. "
   ]
  },
  {
   "cell_type": "code",
   "execution_count": null,
   "metadata": {},
   "outputs": [],
   "source": [
    "list1 = [i for i in range(3)]  # creates a list of 3 elements starting from 0 \n",
    "list1"
   ]
  },
  {
   "cell_type": "code",
   "execution_count": null,
   "metadata": {},
   "outputs": [],
   "source": [
    "list2 = [i*i for i in range(5)]  # creates a list of 5 elements starting from 0 to 4 , each element having value as square \n",
    "list2"
   ]
  },
  {
   "cell_type": "code",
   "execution_count": null,
   "metadata": {},
   "outputs": [],
   "source": [
    "list3 = [i*i*i for i in range(1, 4)]  # creates a list of 3 elements starting from 1 to 3 , each element having value as cube \n",
    "list3"
   ]
  },
  {
   "cell_type": "code",
   "execution_count": null,
   "metadata": {},
   "outputs": [],
   "source": [
    "L = [ 1, 2, 3]\n",
    "list4 = [i*10 for i in L] # create a list whose elements are 10 times the elements of original list\n",
    "list4"
   ]
  },
  {
   "cell_type": "markdown",
   "metadata": {},
   "source": [
    "# Exercise"
   ]
  },
  {
   "cell_type": "markdown",
   "metadata": {},
   "source": [
    "Q1. Write a program that accepts 5 lists from the user, each one of which contains three values in it assignment marks, midsem marks and compre marks. <br>\n",
    "    (a) Compute the total marks obtained by each student <br>\n",
    "    (b) Print out the average of the class. "
   ]
  },
  {
   "cell_type": "code",
   "execution_count": null,
   "metadata": {},
   "outputs": [],
   "source": [
    "#Try it here\n"
   ]
  },
  {
   "cell_type": "markdown",
   "metadata": {},
   "source": [
    "Q2. Ask a use to enter a sentence <br>\n",
    "    (a) Print out the third word of sentence <br>\n",
    "    (b) Print out every second word of sentence"
   ]
  },
  {
   "cell_type": "code",
   "execution_count": null,
   "metadata": {},
   "outputs": [],
   "source": [
    "#Try it here\n"
   ]
  },
  {
   "cell_type": "markdown",
   "metadata": {},
   "source": [
    "Q3. Create the following lists using a for loop.<br>\n",
    "    (a) A list consisting of the integers 0 through 49<br>\n",
    "    (b) A list containing the squares of integers 1 through 50 <br>\n",
    "    (c) The list ['aa', 'bb', 'cc'.....] that ends with 26 th letter 'z'.\n",
    "    "
   ]
  },
  {
   "cell_type": "code",
   "execution_count": null,
   "metadata": {},
   "outputs": [],
   "source": [
    "#Try it here\n"
   ]
  },
  {
   "cell_type": "markdown",
   "metadata": {},
   "source": [
    "Q4. Write a program that counts the number of occurances of word in a sentence entered by user without using built in function."
   ]
  },
  {
   "cell_type": "code",
   "execution_count": null,
   "metadata": {},
   "outputs": [],
   "source": [
    "#Try it here\n"
   ]
  },
  {
   "cell_type": "markdown",
   "metadata": {},
   "source": [
    "Q5. Ask a user to enter a list of strings. Create a new list that consists of those strings with their first characters removed."
   ]
  },
  {
   "cell_type": "code",
   "execution_count": null,
   "metadata": {},
   "outputs": [],
   "source": [
    "#Try it here\n"
   ]
  },
  {
   "cell_type": "markdown",
   "metadata": {},
   "source": [
    "# Answer"
   ]
  },
  {
   "cell_type": "code",
   "execution_count": null,
   "metadata": {},
   "outputs": [],
   "source": []
  }
 ],
 "metadata": {
  "kernelspec": {
   "display_name": "Python [conda env:base] *",
   "language": "python",
   "name": "conda-base-py"
  },
  "language_info": {
   "codemirror_mode": {
    "name": "ipython",
    "version": 3
   },
   "file_extension": ".py",
   "mimetype": "text/x-python",
   "name": "python",
   "nbconvert_exporter": "python",
   "pygments_lexer": "ipython3",
   "version": "3.12.7"
  }
 },
 "nbformat": 4,
 "nbformat_minor": 4
}
