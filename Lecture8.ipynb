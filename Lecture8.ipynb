{
 "cells": [
  {
   "cell_type": "markdown",
   "metadata": {},
   "source": [
    "<b>Unknown number of arguments<b>"
   ]
  },
  {
   "cell_type": "code",
   "execution_count": 4,
   "metadata": {},
   "outputs": [],
   "source": [
    "def add(number1, number2):\n",
    "    sum = number1 + number2\n",
    "    return sum"
   ]
  },
  {
   "cell_type": "code",
   "execution_count": 7,
   "metadata": {},
   "outputs": [
    {
     "data": {
      "text/plain": [
       "3"
      ]
     },
     "execution_count": 7,
     "metadata": {},
     "output_type": "execute_result"
    }
   ],
   "source": [
    "add(1,2)"
   ]
  },
  {
   "cell_type": "code",
   "execution_count": 8,
   "metadata": {},
   "outputs": [
    {
     "ename": "TypeError",
     "evalue": "add() takes 2 positional arguments but 3 were given",
     "output_type": "error",
     "traceback": [
      "\u001b[1;31m---------------------------------------------------------------------------\u001b[0m",
      "\u001b[1;31mTypeError\u001b[0m                                 Traceback (most recent call last)",
      "\u001b[1;32m<ipython-input-8-13f0f406091d>\u001b[0m in \u001b[0;36m<module>\u001b[1;34m\u001b[0m\n\u001b[1;32m----> 1\u001b[1;33m \u001b[0madd\u001b[0m\u001b[1;33m(\u001b[0m\u001b[1;36m1\u001b[0m\u001b[1;33m,\u001b[0m\u001b[1;36m2\u001b[0m\u001b[1;33m,\u001b[0m \u001b[1;36m3\u001b[0m\u001b[1;33m)\u001b[0m\u001b[1;33m\u001b[0m\u001b[1;33m\u001b[0m\u001b[0m\n\u001b[0m",
      "\u001b[1;31mTypeError\u001b[0m: add() takes 2 positional arguments but 3 were given"
     ]
    }
   ],
   "source": [
    "add(1,2, 3)"
   ]
  },
  {
   "cell_type": "code",
   "execution_count": 9,
   "metadata": {},
   "outputs": [],
   "source": [
    "def add_variable(*numbers):\n",
    "    sum = 0 \n",
    "    for number in numbers:\n",
    "        sum = sum + number\n",
    "    return sum    "
   ]
  },
  {
   "cell_type": "code",
   "execution_count": 10,
   "metadata": {},
   "outputs": [
    {
     "data": {
      "text/plain": [
       "3"
      ]
     },
     "execution_count": 10,
     "metadata": {},
     "output_type": "execute_result"
    }
   ],
   "source": [
    "add_variable(1,2)"
   ]
  },
  {
   "cell_type": "code",
   "execution_count": 11,
   "metadata": {},
   "outputs": [
    {
     "data": {
      "text/plain": [
       "6"
      ]
     },
     "execution_count": 11,
     "metadata": {},
     "output_type": "execute_result"
    }
   ],
   "source": [
    "add_variable(1,2,3)"
   ]
  },
  {
   "cell_type": "code",
   "execution_count": 12,
   "metadata": {},
   "outputs": [
    {
     "data": {
      "text/plain": [
       "10"
      ]
     },
     "execution_count": 12,
     "metadata": {},
     "output_type": "execute_result"
    }
   ],
   "source": [
    "add_variable(1,2,3,4)"
   ]
  },
  {
   "cell_type": "markdown",
   "metadata": {},
   "source": [
    "<b> Functoin with multiple value returns<b>"
   ]
  },
  {
   "cell_type": "code",
   "execution_count": 14,
   "metadata": {},
   "outputs": [],
   "source": [
    "def find_min_max(numbers):\n",
    "    minimum = min(numbers)\n",
    "    maximum = max(numbers)\n",
    "    return minimum, maximum"
   ]
  },
  {
   "cell_type": "code",
   "execution_count": 15,
   "metadata": {},
   "outputs": [
    {
     "data": {
      "text/plain": [
       "(1, 89)"
      ]
     },
     "execution_count": 15,
     "metadata": {},
     "output_type": "execute_result"
    }
   ],
   "source": [
    "list1 = [1, 4, 23, 1, 89, 45]\n",
    "find_min_max(list1)"
   ]
  },
  {
   "cell_type": "code",
   "execution_count": 16,
   "metadata": {},
   "outputs": [
    {
     "name": "stdout",
     "output_type": "stream",
     "text": [
      "minimum   1\n",
      "maximum   89\n"
     ]
    }
   ],
   "source": [
    "min1, max1 = find_min_max(list1)\n",
    "print(\"minimum  \", min1)\n",
    "print(\"maximum  \", max1)"
   ]
  },
  {
   "cell_type": "markdown",
   "metadata": {},
   "source": [
    "# File Handling "
   ]
  },
  {
   "cell_type": "markdown",
   "metadata": {},
   "source": [
    "<b> Opening a file <b>"
   ]
  },
  {
   "cell_type": "code",
   "execution_count": 24,
   "metadata": {},
   "outputs": [],
   "source": [
    "f = open(\"dummy_file.txt\")"
   ]
  },
  {
   "cell_type": "code",
   "execution_count": 25,
   "metadata": {},
   "outputs": [
    {
     "name": "stdout",
     "output_type": "stream",
     "text": [
      "This is demo file. \n",
      "It contains many lines in it. \n",
      "Some lines are big, some are small. \n",
      "Any python program can read this file. \n",
      "Any pythonp program can write into this file. \n"
     ]
    }
   ],
   "source": [
    "contents = f.read()\n",
    "print(contents)"
   ]
  },
  {
   "cell_type": "code",
   "execution_count": 26,
   "metadata": {},
   "outputs": [],
   "source": [
    "f.close()"
   ]
  },
  {
   "cell_type": "markdown",
   "metadata": {},
   "source": [
    "<b> Data processing on file<b>"
   ]
  },
  {
   "cell_type": "code",
   "execution_count": 36,
   "metadata": {},
   "outputs": [
    {
     "name": "stdout",
     "output_type": "stream",
     "text": [
      "1 ) This is demo file. \n",
      "\tNumber of characters :  19\n",
      "\tNumber of words :  4\n",
      "2 ) It contains many lines in it. \n",
      "\tNumber of characters :  30\n",
      "\tNumber of words :  6\n",
      "3 ) Some lines are big, some are small. \n",
      "\tNumber of characters :  36\n",
      "\tNumber of words :  7\n",
      "4 ) Any python program can read this file. \n",
      "\tNumber of characters :  39\n",
      "\tNumber of words :  7\n",
      "5 ) Any pythonp program can write into this file. \n",
      "\tNumber of characters :  46\n",
      "\tNumber of words :  8\n"
     ]
    }
   ],
   "source": [
    "file = open(\"dummy_file.txt\")\n",
    "\n",
    "contents = file.read()\n",
    "\n",
    "lines = contents.split(\"\\n\")\n",
    "\n",
    "index = 1\n",
    "for line in lines:\n",
    "    print(index, \")\", line)\n",
    "    print(\"\\tNumber of characters : \", len(line))\n",
    "    words = line.split()\n",
    "    print(\"\\tNumber of words : \", len(words))\n",
    "    index +=1 \n",
    "\n",
    "file.close()"
   ]
  },
  {
   "cell_type": "markdown",
   "metadata": {},
   "source": [
    "<b> Using Exceptions<b>"
   ]
  },
  {
   "cell_type": "code",
   "execution_count": 40,
   "metadata": {},
   "outputs": [
    {
     "name": "stdout",
     "output_type": "stream",
     "text": [
      "Some error happened with file opening/processing\n"
     ]
    }
   ],
   "source": [
    "try:\n",
    "    file = open(\"my_file.txt\")\n",
    "    file.read()\n",
    "    file.close()    \n",
    "except:\n",
    "    print(\"Some error happened with file opening/processing\")"
   ]
  },
  {
   "cell_type": "code",
   "execution_count": 42,
   "metadata": {},
   "outputs": [
    {
     "name": "stdout",
     "output_type": "stream",
     "text": [
      "file not present\n"
     ]
    }
   ],
   "source": [
    "try:\n",
    "    file = open(\"my_file.txt\")    \n",
    "except:\n",
    "    print(\"file not present\")       "
   ]
  },
  {
   "cell_type": "markdown",
   "metadata": {},
   "source": [
    "<b> Writing to file<b>"
   ]
  },
  {
   "cell_type": "code",
   "execution_count": 44,
   "metadata": {},
   "outputs": [],
   "source": [
    "fout = open(\"my_file.txt\", \"w\")\n",
    "print(\"This is first stmt\", file=fout)\n",
    "print(\"This is second stmt\", file=fout)\n",
    "print(\"This is third stmt\", file=fout)\n",
    "print(\"This is fourth stmt\", file=fout)\n",
    "fout.close()"
   ]
  },
  {
   "cell_type": "code",
   "execution_count": 45,
   "metadata": {},
   "outputs": [
    {
     "name": "stdout",
     "output_type": "stream",
     "text": [
      "This is first stmt\n",
      "This is second stmt\n",
      "This is third stmt\n",
      "This is fourth stmt\n",
      "\n"
     ]
    }
   ],
   "source": [
    "f = open(\"my_file.txt\")\n",
    "contents = f.read()\n",
    "print(contents)\n",
    "f.close()"
   ]
  },
  {
   "cell_type": "code",
   "execution_count": 47,
   "metadata": {},
   "outputs": [],
   "source": [
    "fout = open(\"second_file.txt\", \"w\")\n",
    "fout.write(\"1 P  12 34 \\n\")\n",
    "fout.write(\"2 A  13 37 \\n\")\n",
    "fout.write(\"3 X  14 39 \\n\")\n",
    "fout.close()"
   ]
  },
  {
   "cell_type": "markdown",
   "metadata": {},
   "source": [
    "<b> Write using append mode<b>"
   ]
  },
  {
   "cell_type": "code",
   "execution_count": 48,
   "metadata": {},
   "outputs": [],
   "source": [
    "fout = open(\"second_file.txt\", \"a\")\n",
    "fout.write(\"4 S 12 45\\n\")\n",
    "fout.write(\"5 W 17 23\\n\")\n",
    "fout.close()"
   ]
  },
  {
   "cell_type": "code",
   "execution_count": 50,
   "metadata": {},
   "outputs": [
    {
     "name": "stdout",
     "output_type": "stream",
     "text": [
      "1 P  12 34 \n",
      "2 A  13 37 \n",
      "3 X  14 39 \n",
      "4 S 12 45\n",
      "5 W 17 23\n",
      "\n"
     ]
    }
   ],
   "source": [
    "fin = open(\"second_file.txt\")\n",
    "records = fin.read()\n",
    "print(records)\n",
    "fin.close()"
   ]
  },
  {
   "cell_type": "code",
   "execution_count": null,
   "metadata": {},
   "outputs": [],
   "source": []
  }
 ],
 "metadata": {
  "kernelspec": {
   "display_name": "Python 3",
   "language": "python",
   "name": "python3"
  },
  "language_info": {
   "codemirror_mode": {
    "name": "ipython",
    "version": 3
   },
   "file_extension": ".py",
   "mimetype": "text/x-python",
   "name": "python",
   "nbconvert_exporter": "python",
   "pygments_lexer": "ipython3",
   "version": "3.7.3"
  }
 },
 "nbformat": 4,
 "nbformat_minor": 2
}
