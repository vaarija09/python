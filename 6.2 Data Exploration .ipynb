{
 "cells": [
  {
   "cell_type": "markdown",
   "metadata": {},
   "source": [
    "# Data Exploration"
   ]
  },
  {
   "cell_type": "markdown",
   "metadata": {},
   "source": [
    "Lets use a real life example to explore the useful data analysis features of pandas. For this purpose, we are going to use the Bike Shairing dataset that is made available on the UCI website. \n",
    "Using the various measures those are captured as part of this dataset, lets explore how pandas powerful capabilities can be utilized for the data wrangling and exploration. "
   ]
  },
  {
   "cell_type": "markdown",
   "metadata": {},
   "source": [
    "Dataset and more information can be found at following URL - <br>\n",
    "https://archive.ics.uci.edu/ml/datasets/Bike+Sharing+Dataset <br>\n",
    "Please take some moments to go through the description of the dataset and its features which will be helpful for doing further data analysis."
   ]
  },
  {
   "cell_type": "markdown",
   "metadata": {},
   "source": [
    "The Basic Requirements\n",
    "- Reading Data From CSV\n",
    "- Formatting, cleaning and filtering Data Frames\n",
    "- Group-by and Concat / Merge\n",
    "- Writing Data to CSV"
   ]
  },
  {
   "cell_type": "code",
   "execution_count": 1,
   "metadata": {},
   "outputs": [],
   "source": [
    "import pandas as pd\n",
    "import numpy as np"
   ]
  },
  {
   "cell_type": "markdown",
   "metadata": {},
   "source": [
    "# Step1 - Reading Data From CSV"
   ]
  },
  {
   "cell_type": "markdown",
   "metadata": {},
   "source": [
    "As the data is stored in csv format, use read_csv function of pandas to read the data in pandas structure named DataFrame."
   ]
  },
  {
   "cell_type": "code",
   "execution_count": 3,
   "metadata": {},
   "outputs": [],
   "source": [
    "bikes = pd.read_csv(\"bike_shairing_hourly.csv\")"
   ]
  },
  {
   "cell_type": "markdown",
   "metadata": {},
   "source": [
    "<b> Data Viewing<b>"
   ]
  },
  {
   "cell_type": "markdown",
   "metadata": {},
   "source": [
    "Lets explore the first and last few rows of dataframe. "
   ]
  },
  {
   "cell_type": "code",
   "execution_count": 5,
   "metadata": {},
   "outputs": [
    {
     "data": {
      "text/html": [
       "<div>\n",
       "<style scoped>\n",
       "    .dataframe tbody tr th:only-of-type {\n",
       "        vertical-align: middle;\n",
       "    }\n",
       "\n",
       "    .dataframe tbody tr th {\n",
       "        vertical-align: top;\n",
       "    }\n",
       "\n",
       "    .dataframe thead th {\n",
       "        text-align: right;\n",
       "    }\n",
       "</style>\n",
       "<table border=\"1\" class=\"dataframe\">\n",
       "  <thead>\n",
       "    <tr style=\"text-align: right;\">\n",
       "      <th></th>\n",
       "      <th>instant</th>\n",
       "      <th>dteday</th>\n",
       "      <th>season</th>\n",
       "      <th>yr</th>\n",
       "      <th>mnth</th>\n",
       "      <th>hr</th>\n",
       "      <th>holiday</th>\n",
       "      <th>weekday</th>\n",
       "      <th>workingday</th>\n",
       "      <th>weathersit</th>\n",
       "      <th>temp</th>\n",
       "      <th>atemp</th>\n",
       "      <th>hum</th>\n",
       "      <th>windspeed</th>\n",
       "      <th>casual</th>\n",
       "      <th>registered</th>\n",
       "      <th>cnt</th>\n",
       "    </tr>\n",
       "  </thead>\n",
       "  <tbody>\n",
       "    <tr>\n",
       "      <th>0</th>\n",
       "      <td>1</td>\n",
       "      <td>2011-01-01</td>\n",
       "      <td>1</td>\n",
       "      <td>0</td>\n",
       "      <td>1</td>\n",
       "      <td>0</td>\n",
       "      <td>0</td>\n",
       "      <td>6</td>\n",
       "      <td>0</td>\n",
       "      <td>1</td>\n",
       "      <td>0.24</td>\n",
       "      <td>0.2879</td>\n",
       "      <td>0.81</td>\n",
       "      <td>0.0</td>\n",
       "      <td>3</td>\n",
       "      <td>13</td>\n",
       "      <td>16</td>\n",
       "    </tr>\n",
       "    <tr>\n",
       "      <th>1</th>\n",
       "      <td>2</td>\n",
       "      <td>2011-01-01</td>\n",
       "      <td>1</td>\n",
       "      <td>0</td>\n",
       "      <td>1</td>\n",
       "      <td>1</td>\n",
       "      <td>0</td>\n",
       "      <td>6</td>\n",
       "      <td>0</td>\n",
       "      <td>1</td>\n",
       "      <td>0.22</td>\n",
       "      <td>0.2727</td>\n",
       "      <td>0.80</td>\n",
       "      <td>0.0</td>\n",
       "      <td>8</td>\n",
       "      <td>32</td>\n",
       "      <td>40</td>\n",
       "    </tr>\n",
       "  </tbody>\n",
       "</table>\n",
       "</div>"
      ],
      "text/plain": [
       "   instant      dteday  season  yr  mnth  hr  holiday  weekday  workingday  \\\n",
       "0        1  2011-01-01       1   0     1   0        0        6           0   \n",
       "1        2  2011-01-01       1   0     1   1        0        6           0   \n",
       "\n",
       "   weathersit  temp   atemp   hum  windspeed  casual  registered  cnt  \n",
       "0           1  0.24  0.2879  0.81        0.0       3          13   16  \n",
       "1           1  0.22  0.2727  0.80        0.0       8          32   40  "
      ]
     },
     "execution_count": 5,
     "metadata": {},
     "output_type": "execute_result"
    }
   ],
   "source": [
    "bikes.head(2)"
   ]
  },
  {
   "cell_type": "code",
   "execution_count": 7,
   "metadata": {},
   "outputs": [
    {
     "data": {
      "text/html": [
       "<div>\n",
       "<style scoped>\n",
       "    .dataframe tbody tr th:only-of-type {\n",
       "        vertical-align: middle;\n",
       "    }\n",
       "\n",
       "    .dataframe tbody tr th {\n",
       "        vertical-align: top;\n",
       "    }\n",
       "\n",
       "    .dataframe thead th {\n",
       "        text-align: right;\n",
       "    }\n",
       "</style>\n",
       "<table border=\"1\" class=\"dataframe\">\n",
       "  <thead>\n",
       "    <tr style=\"text-align: right;\">\n",
       "      <th></th>\n",
       "      <th>instant</th>\n",
       "      <th>dteday</th>\n",
       "      <th>season</th>\n",
       "      <th>yr</th>\n",
       "      <th>mnth</th>\n",
       "      <th>hr</th>\n",
       "      <th>holiday</th>\n",
       "      <th>weekday</th>\n",
       "      <th>workingday</th>\n",
       "      <th>weathersit</th>\n",
       "      <th>temp</th>\n",
       "      <th>atemp</th>\n",
       "      <th>hum</th>\n",
       "      <th>windspeed</th>\n",
       "      <th>casual</th>\n",
       "      <th>registered</th>\n",
       "      <th>cnt</th>\n",
       "    </tr>\n",
       "  </thead>\n",
       "  <tbody>\n",
       "    <tr>\n",
       "      <th>17377</th>\n",
       "      <td>17378</td>\n",
       "      <td>2012-12-31</td>\n",
       "      <td>1</td>\n",
       "      <td>1</td>\n",
       "      <td>12</td>\n",
       "      <td>22</td>\n",
       "      <td>0</td>\n",
       "      <td>1</td>\n",
       "      <td>1</td>\n",
       "      <td>1</td>\n",
       "      <td>0.26</td>\n",
       "      <td>0.2727</td>\n",
       "      <td>0.56</td>\n",
       "      <td>0.1343</td>\n",
       "      <td>13</td>\n",
       "      <td>48</td>\n",
       "      <td>61</td>\n",
       "    </tr>\n",
       "    <tr>\n",
       "      <th>17378</th>\n",
       "      <td>17379</td>\n",
       "      <td>2012-12-31</td>\n",
       "      <td>1</td>\n",
       "      <td>1</td>\n",
       "      <td>12</td>\n",
       "      <td>23</td>\n",
       "      <td>0</td>\n",
       "      <td>1</td>\n",
       "      <td>1</td>\n",
       "      <td>1</td>\n",
       "      <td>0.26</td>\n",
       "      <td>0.2727</td>\n",
       "      <td>0.65</td>\n",
       "      <td>0.1343</td>\n",
       "      <td>12</td>\n",
       "      <td>37</td>\n",
       "      <td>49</td>\n",
       "    </tr>\n",
       "  </tbody>\n",
       "</table>\n",
       "</div>"
      ],
      "text/plain": [
       "       instant      dteday  season  yr  mnth  hr  holiday  weekday  \\\n",
       "17377    17378  2012-12-31       1   1    12  22        0        1   \n",
       "17378    17379  2012-12-31       1   1    12  23        0        1   \n",
       "\n",
       "       workingday  weathersit  temp   atemp   hum  windspeed  casual  \\\n",
       "17377           1           1  0.26  0.2727  0.56     0.1343      13   \n",
       "17378           1           1  0.26  0.2727  0.65     0.1343      12   \n",
       "\n",
       "       registered  cnt  \n",
       "17377          48   61  \n",
       "17378          37   49  "
      ]
     },
     "execution_count": 7,
     "metadata": {},
     "output_type": "execute_result"
    }
   ],
   "source": [
    "bikes.tail(2)"
   ]
  },
  {
   "cell_type": "markdown",
   "metadata": {},
   "source": [
    "Lets find out number of rows and columns of data set."
   ]
  },
  {
   "cell_type": "code",
   "execution_count": 9,
   "metadata": {},
   "outputs": [
    {
     "data": {
      "text/plain": [
       "(17379, 17)"
      ]
     },
     "execution_count": 9,
     "metadata": {},
     "output_type": "execute_result"
    }
   ],
   "source": [
    "bikes.shape"
   ]
  },
  {
   "cell_type": "markdown",
   "metadata": {},
   "source": [
    "# Step 2 - Formatting, cleaning and filtering Data Frames"
   ]
  },
  {
   "cell_type": "markdown",
   "metadata": {},
   "source": [
    "Lets check how many data values are present in each column."
   ]
  },
  {
   "cell_type": "code",
   "execution_count": 11,
   "metadata": {},
   "outputs": [
    {
     "name": "stdout",
     "output_type": "stream",
     "text": [
      "<class 'pandas.core.frame.DataFrame'>\n",
      "RangeIndex: 17379 entries, 0 to 17378\n",
      "Data columns (total 17 columns):\n",
      " #   Column      Non-Null Count  Dtype  \n",
      "---  ------      --------------  -----  \n",
      " 0   instant     17379 non-null  int64  \n",
      " 1   dteday      17379 non-null  object \n",
      " 2   season      17379 non-null  int64  \n",
      " 3   yr          17379 non-null  int64  \n",
      " 4   mnth        17379 non-null  int64  \n",
      " 5   hr          17379 non-null  int64  \n",
      " 6   holiday     17379 non-null  int64  \n",
      " 7   weekday     17379 non-null  int64  \n",
      " 8   workingday  17379 non-null  int64  \n",
      " 9   weathersit  17379 non-null  int64  \n",
      " 10  temp        17379 non-null  float64\n",
      " 11  atemp       17379 non-null  float64\n",
      " 12  hum         17379 non-null  float64\n",
      " 13  windspeed   17379 non-null  float64\n",
      " 14  casual      17379 non-null  int64  \n",
      " 15  registered  17379 non-null  int64  \n",
      " 16  cnt         17379 non-null  int64  \n",
      "dtypes: float64(4), int64(12), object(1)\n",
      "memory usage: 2.3+ MB\n"
     ]
    }
   ],
   "source": [
    "bikes.info()"
   ]
  },
  {
   "cell_type": "markdown",
   "metadata": {},
   "source": [
    "As all the features contains same number of data values, there are no missing values in dataset."
   ]
  },
  {
   "cell_type": "markdown",
   "metadata": {},
   "source": [
    "<b> Properties of data <b>"
   ]
  },
  {
   "cell_type": "markdown",
   "metadata": {},
   "source": [
    "Lets check some properties of dataset :"
   ]
  },
  {
   "cell_type": "code",
   "execution_count": 15,
   "metadata": {},
   "outputs": [
    {
     "data": {
      "text/plain": [
       "Index(['instant', 'dteday', 'season', 'yr', 'mnth', 'hr', 'holiday', 'weekday',\n",
       "       'workingday', 'weathersit', 'temp', 'atemp', 'hum', 'windspeed',\n",
       "       'casual', 'registered', 'cnt'],\n",
       "      dtype='object')"
      ]
     },
     "execution_count": 15,
     "metadata": {},
     "output_type": "execute_result"
    }
   ],
   "source": [
    "bikes.columns"
   ]
  },
  {
   "cell_type": "markdown",
   "metadata": {},
   "source": [
    "18 features are present in dataset, most of which looks integers in nature."
   ]
  },
  {
   "cell_type": "code",
   "execution_count": 17,
   "metadata": {},
   "outputs": [
    {
     "data": {
      "text/plain": [
       "instant         int64\n",
       "dteday         object\n",
       "season          int64\n",
       "yr              int64\n",
       "mnth            int64\n",
       "hr              int64\n",
       "holiday         int64\n",
       "weekday         int64\n",
       "workingday      int64\n",
       "weathersit      int64\n",
       "temp          float64\n",
       "atemp         float64\n",
       "hum           float64\n",
       "windspeed     float64\n",
       "casual          int64\n",
       "registered      int64\n",
       "cnt             int64\n",
       "dtype: object"
      ]
     },
     "execution_count": 17,
     "metadata": {},
     "output_type": "execute_result"
    }
   ],
   "source": [
    "bikes.dtypes"
   ]
  },
  {
   "cell_type": "markdown",
   "metadata": {},
   "source": [
    "dteday is datetime field so might need some transformation afterwards."
   ]
  },
  {
   "cell_type": "markdown",
   "metadata": {},
   "source": [
    "<b> Unique feature values <b>"
   ]
  },
  {
   "cell_type": "markdown",
   "metadata": {},
   "source": [
    "Lets explore the unique values present in each feature. These unique values can give us some hints while doing grouping of the data."
   ]
  },
  {
   "cell_type": "code",
   "execution_count": 19,
   "metadata": {},
   "outputs": [
    {
     "data": {
      "text/plain": [
       "array(['2011-01-01', '2011-01-02', '2011-01-03', '2011-01-04',\n",
       "       '2011-01-05', '2011-01-06', '2011-01-07', '2011-01-08',\n",
       "       '2011-01-09', '2011-01-10', '2011-01-11', '2011-01-12',\n",
       "       '2011-01-13', '2011-01-14', '2011-01-15', '2011-01-16',\n",
       "       '2011-01-17', '2011-01-18', '2011-01-19', '2011-01-20',\n",
       "       '2011-01-21', '2011-01-22', '2011-01-23', '2011-01-24',\n",
       "       '2011-01-25', '2011-01-26', '2011-01-27', '2011-01-28',\n",
       "       '2011-01-29', '2011-01-30', '2011-01-31', '2011-02-01',\n",
       "       '2011-02-02', '2011-02-03', '2011-02-04', '2011-02-05',\n",
       "       '2011-02-06', '2011-02-07', '2011-02-08', '2011-02-09',\n",
       "       '2011-02-10', '2011-02-11', '2011-02-12', '2011-02-13',\n",
       "       '2011-02-14', '2011-02-15', '2011-02-16', '2011-02-17',\n",
       "       '2011-02-18', '2011-02-19', '2011-02-20', '2011-02-21',\n",
       "       '2011-02-22', '2011-02-23', '2011-02-24', '2011-02-25',\n",
       "       '2011-02-26', '2011-02-27', '2011-02-28', '2011-03-01',\n",
       "       '2011-03-02', '2011-03-03', '2011-03-04', '2011-03-05',\n",
       "       '2011-03-06', '2011-03-07', '2011-03-08', '2011-03-09',\n",
       "       '2011-03-10', '2011-03-11', '2011-03-12', '2011-03-13',\n",
       "       '2011-03-14', '2011-03-15', '2011-03-16', '2011-03-17',\n",
       "       '2011-03-18', '2011-03-19', '2011-03-20', '2011-03-21',\n",
       "       '2011-03-22', '2011-03-23', '2011-03-24', '2011-03-25',\n",
       "       '2011-03-26', '2011-03-27', '2011-03-28', '2011-03-29',\n",
       "       '2011-03-30', '2011-03-31', '2011-04-01', '2011-04-02',\n",
       "       '2011-04-03', '2011-04-04', '2011-04-05', '2011-04-06',\n",
       "       '2011-04-07', '2011-04-08', '2011-04-09', '2011-04-10',\n",
       "       '2011-04-11', '2011-04-12', '2011-04-13', '2011-04-14',\n",
       "       '2011-04-15', '2011-04-16', '2011-04-17', '2011-04-18',\n",
       "       '2011-04-19', '2011-04-20', '2011-04-21', '2011-04-22',\n",
       "       '2011-04-23', '2011-04-24', '2011-04-25', '2011-04-26',\n",
       "       '2011-04-27', '2011-04-28', '2011-04-29', '2011-04-30',\n",
       "       '2011-05-01', '2011-05-02', '2011-05-03', '2011-05-04',\n",
       "       '2011-05-05', '2011-05-06', '2011-05-07', '2011-05-08',\n",
       "       '2011-05-09', '2011-05-10', '2011-05-11', '2011-05-12',\n",
       "       '2011-05-13', '2011-05-14', '2011-05-15', '2011-05-16',\n",
       "       '2011-05-17', '2011-05-18', '2011-05-19', '2011-05-20',\n",
       "       '2011-05-21', '2011-05-22', '2011-05-23', '2011-05-24',\n",
       "       '2011-05-25', '2011-05-26', '2011-05-27', '2011-05-28',\n",
       "       '2011-05-29', '2011-05-30', '2011-05-31', '2011-06-01',\n",
       "       '2011-06-02', '2011-06-03', '2011-06-04', '2011-06-05',\n",
       "       '2011-06-06', '2011-06-07', '2011-06-08', '2011-06-09',\n",
       "       '2011-06-10', '2011-06-11', '2011-06-12', '2011-06-13',\n",
       "       '2011-06-14', '2011-06-15', '2011-06-16', '2011-06-17',\n",
       "       '2011-06-18', '2011-06-19', '2011-06-20', '2011-06-21',\n",
       "       '2011-06-22', '2011-06-23', '2011-06-24', '2011-06-25',\n",
       "       '2011-06-26', '2011-06-27', '2011-06-28', '2011-06-29',\n",
       "       '2011-06-30', '2011-07-01', '2011-07-02', '2011-07-03',\n",
       "       '2011-07-04', '2011-07-05', '2011-07-06', '2011-07-07',\n",
       "       '2011-07-08', '2011-07-09', '2011-07-10', '2011-07-11',\n",
       "       '2011-07-12', '2011-07-13', '2011-07-14', '2011-07-15',\n",
       "       '2011-07-16', '2011-07-17', '2011-07-18', '2011-07-19',\n",
       "       '2011-07-20', '2011-07-21', '2011-07-22', '2011-07-23',\n",
       "       '2011-07-24', '2011-07-25', '2011-07-26', '2011-07-27',\n",
       "       '2011-07-28', '2011-07-29', '2011-07-30', '2011-07-31',\n",
       "       '2011-08-01', '2011-08-02', '2011-08-03', '2011-08-04',\n",
       "       '2011-08-05', '2011-08-06', '2011-08-07', '2011-08-08',\n",
       "       '2011-08-09', '2011-08-10', '2011-08-11', '2011-08-12',\n",
       "       '2011-08-13', '2011-08-14', '2011-08-15', '2011-08-16',\n",
       "       '2011-08-17', '2011-08-18', '2011-08-19', '2011-08-20',\n",
       "       '2011-08-21', '2011-08-22', '2011-08-23', '2011-08-24',\n",
       "       '2011-08-25', '2011-08-26', '2011-08-27', '2011-08-28',\n",
       "       '2011-08-29', '2011-08-30', '2011-08-31', '2011-09-01',\n",
       "       '2011-09-02', '2011-09-03', '2011-09-04', '2011-09-05',\n",
       "       '2011-09-06', '2011-09-07', '2011-09-08', '2011-09-09',\n",
       "       '2011-09-10', '2011-09-11', '2011-09-12', '2011-09-13',\n",
       "       '2011-09-14', '2011-09-15', '2011-09-16', '2011-09-17',\n",
       "       '2011-09-18', '2011-09-19', '2011-09-20', '2011-09-21',\n",
       "       '2011-09-22', '2011-09-23', '2011-09-24', '2011-09-25',\n",
       "       '2011-09-26', '2011-09-27', '2011-09-28', '2011-09-29',\n",
       "       '2011-09-30', '2011-10-01', '2011-10-02', '2011-10-03',\n",
       "       '2011-10-04', '2011-10-05', '2011-10-06', '2011-10-07',\n",
       "       '2011-10-08', '2011-10-09', '2011-10-10', '2011-10-11',\n",
       "       '2011-10-12', '2011-10-13', '2011-10-14', '2011-10-15',\n",
       "       '2011-10-16', '2011-10-17', '2011-10-18', '2011-10-19',\n",
       "       '2011-10-20', '2011-10-21', '2011-10-22', '2011-10-23',\n",
       "       '2011-10-24', '2011-10-25', '2011-10-26', '2011-10-27',\n",
       "       '2011-10-28', '2011-10-29', '2011-10-30', '2011-10-31',\n",
       "       '2011-11-01', '2011-11-02', '2011-11-03', '2011-11-04',\n",
       "       '2011-11-05', '2011-11-06', '2011-11-07', '2011-11-08',\n",
       "       '2011-11-09', '2011-11-10', '2011-11-11', '2011-11-12',\n",
       "       '2011-11-13', '2011-11-14', '2011-11-15', '2011-11-16',\n",
       "       '2011-11-17', '2011-11-18', '2011-11-19', '2011-11-20',\n",
       "       '2011-11-21', '2011-11-22', '2011-11-23', '2011-11-24',\n",
       "       '2011-11-25', '2011-11-26', '2011-11-27', '2011-11-28',\n",
       "       '2011-11-29', '2011-11-30', '2011-12-01', '2011-12-02',\n",
       "       '2011-12-03', '2011-12-04', '2011-12-05', '2011-12-06',\n",
       "       '2011-12-07', '2011-12-08', '2011-12-09', '2011-12-10',\n",
       "       '2011-12-11', '2011-12-12', '2011-12-13', '2011-12-14',\n",
       "       '2011-12-15', '2011-12-16', '2011-12-17', '2011-12-18',\n",
       "       '2011-12-19', '2011-12-20', '2011-12-21', '2011-12-22',\n",
       "       '2011-12-23', '2011-12-24', '2011-12-25', '2011-12-26',\n",
       "       '2011-12-27', '2011-12-28', '2011-12-29', '2011-12-30',\n",
       "       '2011-12-31', '2012-01-01', '2012-01-02', '2012-01-03',\n",
       "       '2012-01-04', '2012-01-05', '2012-01-06', '2012-01-07',\n",
       "       '2012-01-08', '2012-01-09', '2012-01-10', '2012-01-11',\n",
       "       '2012-01-12', '2012-01-13', '2012-01-14', '2012-01-15',\n",
       "       '2012-01-16', '2012-01-17', '2012-01-18', '2012-01-19',\n",
       "       '2012-01-20', '2012-01-21', '2012-01-22', '2012-01-23',\n",
       "       '2012-01-24', '2012-01-25', '2012-01-26', '2012-01-27',\n",
       "       '2012-01-28', '2012-01-29', '2012-01-30', '2012-01-31',\n",
       "       '2012-02-01', '2012-02-02', '2012-02-03', '2012-02-04',\n",
       "       '2012-02-05', '2012-02-06', '2012-02-07', '2012-02-08',\n",
       "       '2012-02-09', '2012-02-10', '2012-02-11', '2012-02-12',\n",
       "       '2012-02-13', '2012-02-14', '2012-02-15', '2012-02-16',\n",
       "       '2012-02-17', '2012-02-18', '2012-02-19', '2012-02-20',\n",
       "       '2012-02-21', '2012-02-22', '2012-02-23', '2012-02-24',\n",
       "       '2012-02-25', '2012-02-26', '2012-02-27', '2012-02-28',\n",
       "       '2012-02-29', '2012-03-01', '2012-03-02', '2012-03-03',\n",
       "       '2012-03-04', '2012-03-05', '2012-03-06', '2012-03-07',\n",
       "       '2012-03-08', '2012-03-09', '2012-03-10', '2012-03-11',\n",
       "       '2012-03-12', '2012-03-13', '2012-03-14', '2012-03-15',\n",
       "       '2012-03-16', '2012-03-17', '2012-03-18', '2012-03-19',\n",
       "       '2012-03-20', '2012-03-21', '2012-03-22', '2012-03-23',\n",
       "       '2012-03-24', '2012-03-25', '2012-03-26', '2012-03-27',\n",
       "       '2012-03-28', '2012-03-29', '2012-03-30', '2012-03-31',\n",
       "       '2012-04-01', '2012-04-02', '2012-04-03', '2012-04-04',\n",
       "       '2012-04-05', '2012-04-06', '2012-04-07', '2012-04-08',\n",
       "       '2012-04-09', '2012-04-10', '2012-04-11', '2012-04-12',\n",
       "       '2012-04-13', '2012-04-14', '2012-04-15', '2012-04-16',\n",
       "       '2012-04-17', '2012-04-18', '2012-04-19', '2012-04-20',\n",
       "       '2012-04-21', '2012-04-22', '2012-04-23', '2012-04-24',\n",
       "       '2012-04-25', '2012-04-26', '2012-04-27', '2012-04-28',\n",
       "       '2012-04-29', '2012-04-30', '2012-05-01', '2012-05-02',\n",
       "       '2012-05-03', '2012-05-04', '2012-05-05', '2012-05-06',\n",
       "       '2012-05-07', '2012-05-08', '2012-05-09', '2012-05-10',\n",
       "       '2012-05-11', '2012-05-12', '2012-05-13', '2012-05-14',\n",
       "       '2012-05-15', '2012-05-16', '2012-05-17', '2012-05-18',\n",
       "       '2012-05-19', '2012-05-20', '2012-05-21', '2012-05-22',\n",
       "       '2012-05-23', '2012-05-24', '2012-05-25', '2012-05-26',\n",
       "       '2012-05-27', '2012-05-28', '2012-05-29', '2012-05-30',\n",
       "       '2012-05-31', '2012-06-01', '2012-06-02', '2012-06-03',\n",
       "       '2012-06-04', '2012-06-05', '2012-06-06', '2012-06-07',\n",
       "       '2012-06-08', '2012-06-09', '2012-06-10', '2012-06-11',\n",
       "       '2012-06-12', '2012-06-13', '2012-06-14', '2012-06-15',\n",
       "       '2012-06-16', '2012-06-17', '2012-06-18', '2012-06-19',\n",
       "       '2012-06-20', '2012-06-21', '2012-06-22', '2012-06-23',\n",
       "       '2012-06-24', '2012-06-25', '2012-06-26', '2012-06-27',\n",
       "       '2012-06-28', '2012-06-29', '2012-06-30', '2012-07-01',\n",
       "       '2012-07-02', '2012-07-03', '2012-07-04', '2012-07-05',\n",
       "       '2012-07-06', '2012-07-07', '2012-07-08', '2012-07-09',\n",
       "       '2012-07-10', '2012-07-11', '2012-07-12', '2012-07-13',\n",
       "       '2012-07-14', '2012-07-15', '2012-07-16', '2012-07-17',\n",
       "       '2012-07-18', '2012-07-19', '2012-07-20', '2012-07-21',\n",
       "       '2012-07-22', '2012-07-23', '2012-07-24', '2012-07-25',\n",
       "       '2012-07-26', '2012-07-27', '2012-07-28', '2012-07-29',\n",
       "       '2012-07-30', '2012-07-31', '2012-08-01', '2012-08-02',\n",
       "       '2012-08-03', '2012-08-04', '2012-08-05', '2012-08-06',\n",
       "       '2012-08-07', '2012-08-08', '2012-08-09', '2012-08-10',\n",
       "       '2012-08-11', '2012-08-12', '2012-08-13', '2012-08-14',\n",
       "       '2012-08-15', '2012-08-16', '2012-08-17', '2012-08-18',\n",
       "       '2012-08-19', '2012-08-20', '2012-08-21', '2012-08-22',\n",
       "       '2012-08-23', '2012-08-24', '2012-08-25', '2012-08-26',\n",
       "       '2012-08-27', '2012-08-28', '2012-08-29', '2012-08-30',\n",
       "       '2012-08-31', '2012-09-01', '2012-09-02', '2012-09-03',\n",
       "       '2012-09-04', '2012-09-05', '2012-09-06', '2012-09-07',\n",
       "       '2012-09-08', '2012-09-09', '2012-09-10', '2012-09-11',\n",
       "       '2012-09-12', '2012-09-13', '2012-09-14', '2012-09-15',\n",
       "       '2012-09-16', '2012-09-17', '2012-09-18', '2012-09-19',\n",
       "       '2012-09-20', '2012-09-21', '2012-09-22', '2012-09-23',\n",
       "       '2012-09-24', '2012-09-25', '2012-09-26', '2012-09-27',\n",
       "       '2012-09-28', '2012-09-29', '2012-09-30', '2012-10-01',\n",
       "       '2012-10-02', '2012-10-03', '2012-10-04', '2012-10-05',\n",
       "       '2012-10-06', '2012-10-07', '2012-10-08', '2012-10-09',\n",
       "       '2012-10-10', '2012-10-11', '2012-10-12', '2012-10-13',\n",
       "       '2012-10-14', '2012-10-15', '2012-10-16', '2012-10-17',\n",
       "       '2012-10-18', '2012-10-19', '2012-10-20', '2012-10-21',\n",
       "       '2012-10-22', '2012-10-23', '2012-10-24', '2012-10-25',\n",
       "       '2012-10-26', '2012-10-27', '2012-10-28', '2012-10-29',\n",
       "       '2012-10-30', '2012-10-31', '2012-11-01', '2012-11-02',\n",
       "       '2012-11-03', '2012-11-04', '2012-11-05', '2012-11-06',\n",
       "       '2012-11-07', '2012-11-08', '2012-11-09', '2012-11-10',\n",
       "       '2012-11-11', '2012-11-12', '2012-11-13', '2012-11-14',\n",
       "       '2012-11-15', '2012-11-16', '2012-11-17', '2012-11-18',\n",
       "       '2012-11-19', '2012-11-20', '2012-11-21', '2012-11-22',\n",
       "       '2012-11-23', '2012-11-24', '2012-11-25', '2012-11-26',\n",
       "       '2012-11-27', '2012-11-28', '2012-11-29', '2012-11-30',\n",
       "       '2012-12-01', '2012-12-02', '2012-12-03', '2012-12-04',\n",
       "       '2012-12-05', '2012-12-06', '2012-12-07', '2012-12-08',\n",
       "       '2012-12-09', '2012-12-10', '2012-12-11', '2012-12-12',\n",
       "       '2012-12-13', '2012-12-14', '2012-12-15', '2012-12-16',\n",
       "       '2012-12-17', '2012-12-18', '2012-12-19', '2012-12-20',\n",
       "       '2012-12-21', '2012-12-22', '2012-12-23', '2012-12-24',\n",
       "       '2012-12-25', '2012-12-26', '2012-12-27', '2012-12-28',\n",
       "       '2012-12-29', '2012-12-30', '2012-12-31'], dtype=object)"
      ]
     },
     "execution_count": 19,
     "metadata": {},
     "output_type": "execute_result"
    }
   ],
   "source": [
    "bikes.dteday.unique() # two years dates stored from 1 Jan 2011 to 31 Dec 2012"
   ]
  },
  {
   "cell_type": "code",
   "execution_count": 21,
   "metadata": {},
   "outputs": [
    {
     "data": {
      "text/plain": [
       "array([1, 2, 3, 4], dtype=int64)"
      ]
     },
     "execution_count": 21,
     "metadata": {},
     "output_type": "execute_result"
    }
   ],
   "source": [
    "bikes.season.unique()  # four seasons"
   ]
  },
  {
   "cell_type": "markdown",
   "metadata": {},
   "source": [
    "Same thing can be done using [] operator"
   ]
  },
  {
   "cell_type": "code",
   "execution_count": 23,
   "metadata": {},
   "outputs": [
    {
     "data": {
      "text/plain": [
       "array([1, 2, 3, 4], dtype=int64)"
      ]
     },
     "execution_count": 23,
     "metadata": {},
     "output_type": "execute_result"
    }
   ],
   "source": [
    "bikes[\"season\"].unique()  # four seasons"
   ]
  },
  {
   "cell_type": "code",
   "execution_count": 25,
   "metadata": {},
   "outputs": [
    {
     "data": {
      "text/plain": [
       "array([0, 1], dtype=int64)"
      ]
     },
     "execution_count": 25,
     "metadata": {},
     "output_type": "execute_result"
    }
   ],
   "source": [
    "bikes.yr.unique() # two values - 0 for year 2011 and 1 for year 2012"
   ]
  },
  {
   "cell_type": "code",
   "execution_count": 27,
   "metadata": {},
   "outputs": [
    {
     "data": {
      "text/plain": [
       "array([ 1,  2,  3,  4,  5,  6,  7,  8,  9, 10, 11, 12], dtype=int64)"
      ]
     },
     "execution_count": 27,
     "metadata": {},
     "output_type": "execute_result"
    }
   ],
   "source": [
    "bikes.mnth.unique() # 12 months data stored"
   ]
  },
  {
   "cell_type": "code",
   "execution_count": 29,
   "metadata": {},
   "outputs": [
    {
     "data": {
      "text/plain": [
       "array([ 0,  1,  2,  3,  4,  5,  6,  7,  8,  9, 10, 11, 12, 13, 14, 15, 16,\n",
       "       17, 18, 19, 20, 21, 22, 23], dtype=int64)"
      ]
     },
     "execution_count": 29,
     "metadata": {},
     "output_type": "execute_result"
    }
   ],
   "source": [
    "bikes.hr.unique()  # for each day of month, 24 hours data stored"
   ]
  },
  {
   "cell_type": "code",
   "execution_count": 31,
   "metadata": {},
   "outputs": [
    {
     "data": {
      "text/plain": [
       "array([0, 1], dtype=int64)"
      ]
     },
     "execution_count": 31,
     "metadata": {},
     "output_type": "execute_result"
    }
   ],
   "source": [
    "bikes.holiday.unique() #0- no holidy , 1 holiday"
   ]
  },
  {
   "cell_type": "code",
   "execution_count": 33,
   "metadata": {},
   "outputs": [
    {
     "data": {
      "text/plain": [
       "array([6, 0, 1, 2, 3, 4, 5], dtype=int64)"
      ]
     },
     "execution_count": 33,
     "metadata": {},
     "output_type": "execute_result"
    }
   ],
   "source": [
    "bikes.weekday.unique() # each weekday given a number "
   ]
  },
  {
   "cell_type": "code",
   "execution_count": 35,
   "metadata": {},
   "outputs": [
    {
     "data": {
      "text/plain": [
       "array([0, 1], dtype=int64)"
      ]
     },
     "execution_count": 35,
     "metadata": {},
     "output_type": "execute_result"
    }
   ],
   "source": [
    "bikes.workingday.unique()  # workingday 1 otherwise 0"
   ]
  },
  {
   "cell_type": "code",
   "execution_count": 39,
   "metadata": {},
   "outputs": [
    {
     "data": {
      "text/plain": [
       "array([1, 2, 3, 4], dtype=int64)"
      ]
     },
     "execution_count": 39,
     "metadata": {},
     "output_type": "execute_result"
    }
   ],
   "source": [
    "bikes.weathersit.unique() #weathersit  has four values - 1 , 2, 3, 4"
   ]
  },
  {
   "cell_type": "markdown",
   "metadata": {},
   "source": [
    "temp, atemp, hum, windspeed are real numbers so will not interested in unique values for it."
   ]
  },
  {
   "cell_type": "markdown",
   "metadata": {},
   "source": [
    "casual, registered and cnt are aggregated user counts for each day, so will not be interested in unique values for it."
   ]
  },
  {
   "cell_type": "markdown",
   "metadata": {},
   "source": [
    "<b> Missing values identification <b>"
   ]
  },
  {
   "cell_type": "markdown",
   "metadata": {},
   "source": [
    "Missing values, null values, NaN needs to be identified. "
   ]
  },
  {
   "cell_type": "code",
   "execution_count": 43,
   "metadata": {},
   "outputs": [
    {
     "data": {
      "text/plain": [
       "instant       0\n",
       "dteday        0\n",
       "season        0\n",
       "yr            0\n",
       "mnth          0\n",
       "hr            0\n",
       "holiday       0\n",
       "weekday       0\n",
       "workingday    0\n",
       "weathersit    0\n",
       "temp          0\n",
       "atemp         0\n",
       "hum           0\n",
       "windspeed     0\n",
       "casual        0\n",
       "registered    0\n",
       "cnt           0\n",
       "dtype: int64"
      ]
     },
     "execution_count": 43,
     "metadata": {},
     "output_type": "execute_result"
    }
   ],
   "source": [
    "bikes.isnull().sum()"
   ]
  },
  {
   "cell_type": "code",
   "execution_count": 45,
   "metadata": {},
   "outputs": [
    {
     "data": {
      "text/plain": [
       "instant       0\n",
       "dteday        0\n",
       "season        0\n",
       "yr            0\n",
       "mnth          0\n",
       "hr            0\n",
       "holiday       0\n",
       "weekday       0\n",
       "workingday    0\n",
       "weathersit    0\n",
       "temp          0\n",
       "atemp         0\n",
       "hum           0\n",
       "windspeed     0\n",
       "casual        0\n",
       "registered    0\n",
       "cnt           0\n",
       "dtype: int64"
      ]
     },
     "execution_count": 45,
     "metadata": {},
     "output_type": "execute_result"
    }
   ],
   "source": [
    "bikes.isna().sum()"
   ]
  },
  {
   "cell_type": "markdown",
   "metadata": {},
   "source": [
    "Individual column can also be chcked for the null values."
   ]
  },
  {
   "cell_type": "code",
   "execution_count": 47,
   "metadata": {},
   "outputs": [
    {
     "data": {
      "text/plain": [
       "0"
      ]
     },
     "execution_count": 47,
     "metadata": {},
     "output_type": "execute_result"
    }
   ],
   "source": [
    "bikes.dteday.isnull().sum()"
   ]
  },
  {
   "cell_type": "markdown",
   "metadata": {},
   "source": [
    "None of the feature contains missing values or NaN. "
   ]
  },
  {
   "cell_type": "markdown",
   "metadata": {},
   "source": [
    "If null values are present in the dataframe, following code needs to be executed in order to get rid of them."
   ]
  },
  {
   "cell_type": "code",
   "execution_count": 49,
   "metadata": {},
   "outputs": [
    {
     "data": {
      "text/plain": [
       "instant       17379\n",
       "dteday        17379\n",
       "season        17379\n",
       "yr            17379\n",
       "mnth          17379\n",
       "hr            17379\n",
       "holiday       17379\n",
       "weekday       17379\n",
       "workingday    17379\n",
       "weathersit    17379\n",
       "temp          17379\n",
       "atemp         17379\n",
       "hum           17379\n",
       "windspeed     17379\n",
       "casual        17379\n",
       "registered    17379\n",
       "cnt           17379\n",
       "dtype: int64"
      ]
     },
     "execution_count": 49,
     "metadata": {},
     "output_type": "execute_result"
    }
   ],
   "source": [
    "bikes = bikes.dropna()\n",
    "#or inplace replacment in data frame\n",
    "bikes.dropna(inplace=True)\n",
    "bikes.count()"
   ]
  },
  {
   "cell_type": "markdown",
   "metadata": {},
   "source": [
    "Null values can be removed from individual columns as well. "
   ]
  },
  {
   "cell_type": "code",
   "execution_count": 51,
   "metadata": {},
   "outputs": [
    {
     "data": {
      "text/plain": [
       "17379"
      ]
     },
     "execution_count": 51,
     "metadata": {},
     "output_type": "execute_result"
    }
   ],
   "source": [
    "bikes.yr.dropna(inplace=True)\n",
    "bikes.yr.count()"
   ]
  },
  {
   "cell_type": "markdown",
   "metadata": {},
   "source": [
    "Or missing values can be imputed with some other default values."
   ]
  },
  {
   "cell_type": "code",
   "execution_count": 53,
   "metadata": {},
   "outputs": [
    {
     "data": {
      "text/plain": [
       "array([ 1,  2,  3,  4,  5,  6,  7,  8,  9, 10, 11, 12], dtype=int64)"
      ]
     },
     "execution_count": 53,
     "metadata": {},
     "output_type": "execute_result"
    }
   ],
   "source": [
    "bikes.mnth.fillna(0)  #Replace nulls with 0\n",
    "bikes.mnth.unique()"
   ]
  },
  {
   "cell_type": "markdown",
   "metadata": {},
   "source": [
    "<b> Duplicate records identification<b>"
   ]
  },
  {
   "cell_type": "markdown",
   "metadata": {},
   "source": [
    "Duplicate records needs to be identified and removed."
   ]
  },
  {
   "cell_type": "code",
   "execution_count": 55,
   "metadata": {},
   "outputs": [
    {
     "data": {
      "text/plain": [
       "0"
      ]
     },
     "execution_count": 55,
     "metadata": {},
     "output_type": "execute_result"
    }
   ],
   "source": [
    "bikes.duplicated().sum()"
   ]
  },
  {
   "cell_type": "markdown",
   "metadata": {},
   "source": [
    "There are no duplicate records in the data frame.  Same duplicate check can be done on a column as well. "
   ]
  },
  {
   "cell_type": "code",
   "execution_count": 57,
   "metadata": {},
   "outputs": [
    {
     "data": {
      "text/plain": [
       "0"
      ]
     },
     "execution_count": 57,
     "metadata": {},
     "output_type": "execute_result"
    }
   ],
   "source": [
    "bikes.instant.duplicated().sum()"
   ]
  },
  {
   "cell_type": "markdown",
   "metadata": {},
   "source": [
    "If duplicate records are present, then following code can be used to remove them."
   ]
  },
  {
   "cell_type": "code",
   "execution_count": 59,
   "metadata": {},
   "outputs": [
    {
     "data": {
      "text/plain": [
       "instant       17379\n",
       "dteday        17379\n",
       "season        17379\n",
       "yr            17379\n",
       "mnth          17379\n",
       "hr            17379\n",
       "holiday       17379\n",
       "weekday       17379\n",
       "workingday    17379\n",
       "weathersit    17379\n",
       "temp          17379\n",
       "atemp         17379\n",
       "hum           17379\n",
       "windspeed     17379\n",
       "casual        17379\n",
       "registered    17379\n",
       "cnt           17379\n",
       "dtype: int64"
      ]
     },
     "execution_count": 59,
     "metadata": {},
     "output_type": "execute_result"
    }
   ],
   "source": [
    "bikes.drop_duplicates(subset=\"instant\", keep=\"first\", inplace=True)\n",
    "bikes.count()"
   ]
  },
  {
   "cell_type": "markdown",
   "metadata": {},
   "source": [
    "<b> Data transformation <b>"
   ]
  },
  {
   "cell_type": "markdown",
   "metadata": {},
   "source": [
    "The datetime column \"dte\" is captured as object but as it contains date time in it, a lot of interesting things can be dervied from it and added to the existing data frame for further analysis."
   ]
  },
  {
   "cell_type": "code",
   "execution_count": 61,
   "metadata": {},
   "outputs": [
    {
     "data": {
      "text/plain": [
       "0    2011-01-01\n",
       "1    2011-01-01\n",
       "2    2011-01-01\n",
       "3    2011-01-01\n",
       "4    2011-01-01\n",
       "Name: dteday, dtype: object"
      ]
     },
     "execution_count": 61,
     "metadata": {},
     "output_type": "execute_result"
    }
   ],
   "source": [
    "bikes.dteday.head()"
   ]
  },
  {
   "cell_type": "markdown",
   "metadata": {},
   "source": [
    "Lets convert \"dteday\" to datetime."
   ]
  },
  {
   "cell_type": "code",
   "execution_count": 63,
   "metadata": {},
   "outputs": [
    {
     "data": {
      "text/plain": [
       "pandas.core.series.Series"
      ]
     },
     "execution_count": 63,
     "metadata": {},
     "output_type": "execute_result"
    }
   ],
   "source": [
    "dte = pd.to_datetime(bikes.dteday)\n",
    "type(dte)"
   ]
  },
  {
   "cell_type": "code",
   "execution_count": 73,
   "metadata": {},
   "outputs": [
    {
     "name": "stdout",
     "output_type": "stream",
     "text": [
      "<class 'pandas.core.frame.DataFrame'>\n",
      "RangeIndex: 17379 entries, 0 to 17378\n",
      "Data columns (total 18 columns):\n",
      " #   Column      Non-Null Count  Dtype  \n",
      "---  ------      --------------  -----  \n",
      " 0   instant     17379 non-null  int64  \n",
      " 1   dteday      17379 non-null  object \n",
      " 2   season      17379 non-null  int64  \n",
      " 3   yr          17379 non-null  int64  \n",
      " 4   mnth        17379 non-null  int64  \n",
      " 5   hr          17379 non-null  int64  \n",
      " 6   holiday     17379 non-null  int64  \n",
      " 7   weekday     17379 non-null  int64  \n",
      " 8   workingday  17379 non-null  int64  \n",
      " 9   weathersit  17379 non-null  int64  \n",
      " 10  temp        17379 non-null  float64\n",
      " 11  atemp       17379 non-null  float64\n",
      " 12  hum         17379 non-null  float64\n",
      " 13  windspeed   17379 non-null  float64\n",
      " 14  casual      17379 non-null  int64  \n",
      " 15  registered  17379 non-null  int64  \n",
      " 16  cnt         17379 non-null  int64  \n",
      " 17  year        17379 non-null  int32  \n",
      "dtypes: float64(4), int32(1), int64(12), object(1)\n",
      "memory usage: 2.3+ MB\n"
     ]
    }
   ],
   "source": [
    "bikes.info()"
   ]
  },
  {
   "cell_type": "markdown",
   "metadata": {},
   "source": [
    "<b> Feature Extraction<b>"
   ]
  },
  {
   "cell_type": "markdown",
   "metadata": {},
   "source": [
    "Now extract year, month and day from \"dte\" series."
   ]
  },
  {
   "cell_type": "code",
   "execution_count": 67,
   "metadata": {},
   "outputs": [
    {
     "name": "stdout",
     "output_type": "stream",
     "text": [
      "0    2011\n",
      "1    2011\n",
      "Name: dteday, dtype: int32\n",
      "17377    2012\n",
      "17378    2012\n",
      "Name: dteday, dtype: int32\n"
     ]
    }
   ],
   "source": [
    "year = dte.dt.year\n",
    "print(year.head(2))\n",
    "print(year.tail(2))"
   ]
  },
  {
   "cell_type": "markdown",
   "metadata": {},
   "source": [
    "Add year series into the data frame."
   ]
  },
  {
   "cell_type": "code",
   "execution_count": 69,
   "metadata": {},
   "outputs": [
    {
     "data": {
      "text/plain": [
       "17379"
      ]
     },
     "execution_count": 69,
     "metadata": {},
     "output_type": "execute_result"
    }
   ],
   "source": [
    "bikes[\"year\"] = year\n",
    "bikes.year.count()"
   ]
  },
  {
   "cell_type": "markdown",
   "metadata": {},
   "source": [
    "Same way month, day , weekday features can be extracted from it and added to the dataframe. But our data frame already contains that information so we will not bother about it. "
   ]
  },
  {
   "cell_type": "code",
   "execution_count": null,
   "metadata": {},
   "outputs": [],
   "source": [
    "months = dte.dt.month\n",
    "days = dte.dt.day\n",
    "day_of_weeks = dte.dt.dayofweek\n",
    "day_of_year = dte.dt.dayofyear\n",
    "weekdays = dte.dt.weekday\n",
    "week_of_year = dte.dt.weekofyear"
   ]
  },
  {
   "cell_type": "markdown",
   "metadata": {},
   "source": [
    "<b>Feature Reduction <b>"
   ]
  },
  {
   "cell_type": "markdown",
   "metadata": {},
   "source": [
    "Some of the features like \"instant\" does not do any value addition for the analysis apart from identifying the unique record. But same thing can be induced from the row label, hence the \"instant\" feature can be removed."
   ]
  },
  {
   "cell_type": "code",
   "execution_count": 75,
   "metadata": {},
   "outputs": [
    {
     "data": {
      "text/plain": [
       "Index(['dteday', 'season', 'yr', 'mnth', 'hr', 'holiday', 'weekday',\n",
       "       'workingday', 'weathersit', 'temp', 'atemp', 'hum', 'windspeed',\n",
       "       'casual', 'registered', 'cnt', 'year'],\n",
       "      dtype='object')"
      ]
     },
     "execution_count": 75,
     "metadata": {},
     "output_type": "execute_result"
    }
   ],
   "source": [
    "bikes.drop([\"instant\"], axis=1, inplace=True)\n",
    "bikes.columns"
   ]
  },
  {
   "cell_type": "markdown",
   "metadata": {},
   "source": [
    "Similary, \"cnt\" attribute can be derived from \"casual\" and \"registered\" attributes. So \"cnt\" is redundant information, hence can be removed."
   ]
  },
  {
   "cell_type": "code",
   "execution_count": 77,
   "metadata": {},
   "outputs": [
    {
     "data": {
      "text/plain": [
       "Index(['dteday', 'season', 'yr', 'mnth', 'hr', 'holiday', 'weekday',\n",
       "       'workingday', 'weathersit', 'temp', 'atemp', 'hum', 'windspeed',\n",
       "       'casual', 'registered', 'year'],\n",
       "      dtype='object')"
      ]
     },
     "execution_count": 77,
     "metadata": {},
     "output_type": "execute_result"
    }
   ],
   "source": [
    "bikes.drop([\"cnt\"], axis=1, inplace=True)\n",
    "bikes.columns"
   ]
  },
  {
   "cell_type": "code",
   "execution_count": 79,
   "metadata": {},
   "outputs": [
    {
     "name": "stdout",
     "output_type": "stream",
     "text": [
      "<class 'pandas.core.frame.DataFrame'>\n",
      "RangeIndex: 17379 entries, 0 to 17378\n",
      "Data columns (total 16 columns):\n",
      " #   Column      Non-Null Count  Dtype  \n",
      "---  ------      --------------  -----  \n",
      " 0   dteday      17379 non-null  object \n",
      " 1   season      17379 non-null  int64  \n",
      " 2   yr          17379 non-null  int64  \n",
      " 3   mnth        17379 non-null  int64  \n",
      " 4   hr          17379 non-null  int64  \n",
      " 5   holiday     17379 non-null  int64  \n",
      " 6   weekday     17379 non-null  int64  \n",
      " 7   workingday  17379 non-null  int64  \n",
      " 8   weathersit  17379 non-null  int64  \n",
      " 9   temp        17379 non-null  float64\n",
      " 10  atemp       17379 non-null  float64\n",
      " 11  hum         17379 non-null  float64\n",
      " 12  windspeed   17379 non-null  float64\n",
      " 13  casual      17379 non-null  int64  \n",
      " 14  registered  17379 non-null  int64  \n",
      " 15  year        17379 non-null  int32  \n",
      "dtypes: float64(4), int32(1), int64(10), object(1)\n",
      "memory usage: 2.1+ MB\n"
     ]
    }
   ],
   "source": [
    "bikes.info()"
   ]
  },
  {
   "cell_type": "markdown",
   "metadata": {},
   "source": [
    "<b> Filtering<b>"
   ]
  },
  {
   "cell_type": "markdown",
   "metadata": {},
   "source": [
    "Lets divide the data frame into two different data frames each one containing different year."
   ]
  },
  {
   "cell_type": "code",
   "execution_count": 81,
   "metadata": {},
   "outputs": [
    {
     "data": {
      "text/html": [
       "<div>\n",
       "<style scoped>\n",
       "    .dataframe tbody tr th:only-of-type {\n",
       "        vertical-align: middle;\n",
       "    }\n",
       "\n",
       "    .dataframe tbody tr th {\n",
       "        vertical-align: top;\n",
       "    }\n",
       "\n",
       "    .dataframe thead th {\n",
       "        text-align: right;\n",
       "    }\n",
       "</style>\n",
       "<table border=\"1\" class=\"dataframe\">\n",
       "  <thead>\n",
       "    <tr style=\"text-align: right;\">\n",
       "      <th></th>\n",
       "      <th>dteday</th>\n",
       "      <th>season</th>\n",
       "      <th>yr</th>\n",
       "      <th>mnth</th>\n",
       "      <th>hr</th>\n",
       "      <th>holiday</th>\n",
       "      <th>weekday</th>\n",
       "      <th>workingday</th>\n",
       "      <th>weathersit</th>\n",
       "      <th>temp</th>\n",
       "      <th>atemp</th>\n",
       "      <th>hum</th>\n",
       "      <th>windspeed</th>\n",
       "      <th>casual</th>\n",
       "      <th>registered</th>\n",
       "      <th>year</th>\n",
       "    </tr>\n",
       "  </thead>\n",
       "  <tbody>\n",
       "    <tr>\n",
       "      <th>0</th>\n",
       "      <td>2011-01-01</td>\n",
       "      <td>1</td>\n",
       "      <td>0</td>\n",
       "      <td>1</td>\n",
       "      <td>0</td>\n",
       "      <td>0</td>\n",
       "      <td>6</td>\n",
       "      <td>0</td>\n",
       "      <td>1</td>\n",
       "      <td>0.24</td>\n",
       "      <td>0.2879</td>\n",
       "      <td>0.81</td>\n",
       "      <td>0.0</td>\n",
       "      <td>3</td>\n",
       "      <td>13</td>\n",
       "      <td>2011</td>\n",
       "    </tr>\n",
       "    <tr>\n",
       "      <th>1</th>\n",
       "      <td>2011-01-01</td>\n",
       "      <td>1</td>\n",
       "      <td>0</td>\n",
       "      <td>1</td>\n",
       "      <td>1</td>\n",
       "      <td>0</td>\n",
       "      <td>6</td>\n",
       "      <td>0</td>\n",
       "      <td>1</td>\n",
       "      <td>0.22</td>\n",
       "      <td>0.2727</td>\n",
       "      <td>0.80</td>\n",
       "      <td>0.0</td>\n",
       "      <td>8</td>\n",
       "      <td>32</td>\n",
       "      <td>2011</td>\n",
       "    </tr>\n",
       "  </tbody>\n",
       "</table>\n",
       "</div>"
      ],
      "text/plain": [
       "       dteday  season  yr  mnth  hr  holiday  weekday  workingday  weathersit  \\\n",
       "0  2011-01-01       1   0     1   0        0        6           0           1   \n",
       "1  2011-01-01       1   0     1   1        0        6           0           1   \n",
       "\n",
       "   temp   atemp   hum  windspeed  casual  registered  year  \n",
       "0  0.24  0.2879  0.81        0.0       3          13  2011  \n",
       "1  0.22  0.2727  0.80        0.0       8          32  2011  "
      ]
     },
     "execution_count": 81,
     "metadata": {},
     "output_type": "execute_result"
    }
   ],
   "source": [
    "bikes_2011 = bikes[bikes.year == 2011]\n",
    "bikes_2011.head(2)"
   ]
  },
  {
   "cell_type": "code",
   "execution_count": 83,
   "metadata": {},
   "outputs": [
    {
     "data": {
      "text/html": [
       "<div>\n",
       "<style scoped>\n",
       "    .dataframe tbody tr th:only-of-type {\n",
       "        vertical-align: middle;\n",
       "    }\n",
       "\n",
       "    .dataframe tbody tr th {\n",
       "        vertical-align: top;\n",
       "    }\n",
       "\n",
       "    .dataframe thead th {\n",
       "        text-align: right;\n",
       "    }\n",
       "</style>\n",
       "<table border=\"1\" class=\"dataframe\">\n",
       "  <thead>\n",
       "    <tr style=\"text-align: right;\">\n",
       "      <th></th>\n",
       "      <th>dteday</th>\n",
       "      <th>season</th>\n",
       "      <th>yr</th>\n",
       "      <th>mnth</th>\n",
       "      <th>hr</th>\n",
       "      <th>holiday</th>\n",
       "      <th>weekday</th>\n",
       "      <th>workingday</th>\n",
       "      <th>weathersit</th>\n",
       "      <th>temp</th>\n",
       "      <th>atemp</th>\n",
       "      <th>hum</th>\n",
       "      <th>windspeed</th>\n",
       "      <th>casual</th>\n",
       "      <th>registered</th>\n",
       "      <th>year</th>\n",
       "    </tr>\n",
       "  </thead>\n",
       "  <tbody>\n",
       "    <tr>\n",
       "      <th>8645</th>\n",
       "      <td>2012-01-01</td>\n",
       "      <td>1</td>\n",
       "      <td>1</td>\n",
       "      <td>1</td>\n",
       "      <td>0</td>\n",
       "      <td>0</td>\n",
       "      <td>0</td>\n",
       "      <td>0</td>\n",
       "      <td>1</td>\n",
       "      <td>0.36</td>\n",
       "      <td>0.3788</td>\n",
       "      <td>0.66</td>\n",
       "      <td>0.0000</td>\n",
       "      <td>5</td>\n",
       "      <td>43</td>\n",
       "      <td>2012</td>\n",
       "    </tr>\n",
       "    <tr>\n",
       "      <th>8646</th>\n",
       "      <td>2012-01-01</td>\n",
       "      <td>1</td>\n",
       "      <td>1</td>\n",
       "      <td>1</td>\n",
       "      <td>1</td>\n",
       "      <td>0</td>\n",
       "      <td>0</td>\n",
       "      <td>0</td>\n",
       "      <td>1</td>\n",
       "      <td>0.36</td>\n",
       "      <td>0.3485</td>\n",
       "      <td>0.66</td>\n",
       "      <td>0.1343</td>\n",
       "      <td>15</td>\n",
       "      <td>78</td>\n",
       "      <td>2012</td>\n",
       "    </tr>\n",
       "  </tbody>\n",
       "</table>\n",
       "</div>"
      ],
      "text/plain": [
       "          dteday  season  yr  mnth  hr  holiday  weekday  workingday  \\\n",
       "8645  2012-01-01       1   1     1   0        0        0           0   \n",
       "8646  2012-01-01       1   1     1   1        0        0           0   \n",
       "\n",
       "      weathersit  temp   atemp   hum  windspeed  casual  registered  year  \n",
       "8645           1  0.36  0.3788  0.66     0.0000       5          43  2012  \n",
       "8646           1  0.36  0.3485  0.66     0.1343      15          78  2012  "
      ]
     },
     "execution_count": 83,
     "metadata": {},
     "output_type": "execute_result"
    }
   ],
   "source": [
    "bikes_2012 = bikes[bikes.year == 2012]\n",
    "bikes_2012.head(2)"
   ]
  },
  {
   "cell_type": "markdown",
   "metadata": {},
   "source": [
    "Similary several smaller data frames can be derived out of complete data set and then anlysis can be done on those data frames."
   ]
  },
  {
   "cell_type": "code",
   "execution_count": 85,
   "metadata": {},
   "outputs": [
    {
     "data": {
      "text/html": [
       "<div>\n",
       "<style scoped>\n",
       "    .dataframe tbody tr th:only-of-type {\n",
       "        vertical-align: middle;\n",
       "    }\n",
       "\n",
       "    .dataframe tbody tr th {\n",
       "        vertical-align: top;\n",
       "    }\n",
       "\n",
       "    .dataframe thead th {\n",
       "        text-align: right;\n",
       "    }\n",
       "</style>\n",
       "<table border=\"1\" class=\"dataframe\">\n",
       "  <thead>\n",
       "    <tr style=\"text-align: right;\">\n",
       "      <th></th>\n",
       "      <th>dteday</th>\n",
       "      <th>season</th>\n",
       "      <th>yr</th>\n",
       "      <th>mnth</th>\n",
       "      <th>hr</th>\n",
       "      <th>holiday</th>\n",
       "      <th>weekday</th>\n",
       "      <th>workingday</th>\n",
       "      <th>weathersit</th>\n",
       "      <th>temp</th>\n",
       "      <th>atemp</th>\n",
       "      <th>hum</th>\n",
       "      <th>windspeed</th>\n",
       "      <th>casual</th>\n",
       "      <th>registered</th>\n",
       "      <th>year</th>\n",
       "    </tr>\n",
       "  </thead>\n",
       "  <tbody>\n",
       "    <tr>\n",
       "      <th>1807</th>\n",
       "      <td>2011-03-21</td>\n",
       "      <td>2</td>\n",
       "      <td>0</td>\n",
       "      <td>3</td>\n",
       "      <td>0</td>\n",
       "      <td>0</td>\n",
       "      <td>1</td>\n",
       "      <td>1</td>\n",
       "      <td>3</td>\n",
       "      <td>0.34</td>\n",
       "      <td>0.303</td>\n",
       "      <td>0.66</td>\n",
       "      <td>0.3881</td>\n",
       "      <td>2</td>\n",
       "      <td>11</td>\n",
       "      <td>2011</td>\n",
       "    </tr>\n",
       "    <tr>\n",
       "      <th>1808</th>\n",
       "      <td>2011-03-21</td>\n",
       "      <td>2</td>\n",
       "      <td>0</td>\n",
       "      <td>3</td>\n",
       "      <td>1</td>\n",
       "      <td>0</td>\n",
       "      <td>1</td>\n",
       "      <td>1</td>\n",
       "      <td>2</td>\n",
       "      <td>0.34</td>\n",
       "      <td>0.303</td>\n",
       "      <td>0.71</td>\n",
       "      <td>0.3881</td>\n",
       "      <td>1</td>\n",
       "      <td>6</td>\n",
       "      <td>2011</td>\n",
       "    </tr>\n",
       "  </tbody>\n",
       "</table>\n",
       "</div>"
      ],
      "text/plain": [
       "          dteday  season  yr  mnth  hr  holiday  weekday  workingday  \\\n",
       "1807  2011-03-21       2   0     3   0        0        1           1   \n",
       "1808  2011-03-21       2   0     3   1        0        1           1   \n",
       "\n",
       "      weathersit  temp  atemp   hum  windspeed  casual  registered  year  \n",
       "1807           3  0.34  0.303  0.66     0.3881       2          11  2011  \n",
       "1808           2  0.34  0.303  0.71     0.3881       1           6  2011  "
      ]
     },
     "execution_count": 85,
     "metadata": {},
     "output_type": "execute_result"
    }
   ],
   "source": [
    "bikes_2011_summer = bikes[(bikes.year == 2011) & (bikes.season == 2)]\n",
    "bikes_2011_summer.head(2)"
   ]
  },
  {
   "cell_type": "code",
   "execution_count": 87,
   "metadata": {},
   "outputs": [
    {
     "data": {
      "text/html": [
       "<div>\n",
       "<style scoped>\n",
       "    .dataframe tbody tr th:only-of-type {\n",
       "        vertical-align: middle;\n",
       "    }\n",
       "\n",
       "    .dataframe tbody tr th {\n",
       "        vertical-align: top;\n",
       "    }\n",
       "\n",
       "    .dataframe thead th {\n",
       "        text-align: right;\n",
       "    }\n",
       "</style>\n",
       "<table border=\"1\" class=\"dataframe\">\n",
       "  <thead>\n",
       "    <tr style=\"text-align: right;\">\n",
       "      <th></th>\n",
       "      <th>dteday</th>\n",
       "      <th>season</th>\n",
       "      <th>yr</th>\n",
       "      <th>mnth</th>\n",
       "      <th>hr</th>\n",
       "      <th>holiday</th>\n",
       "      <th>weekday</th>\n",
       "      <th>workingday</th>\n",
       "      <th>weathersit</th>\n",
       "      <th>temp</th>\n",
       "      <th>atemp</th>\n",
       "      <th>hum</th>\n",
       "      <th>windspeed</th>\n",
       "      <th>casual</th>\n",
       "      <th>registered</th>\n",
       "      <th>year</th>\n",
       "    </tr>\n",
       "  </thead>\n",
       "  <tbody>\n",
       "    <tr>\n",
       "      <th>372</th>\n",
       "      <td>2011-01-17</td>\n",
       "      <td>1</td>\n",
       "      <td>0</td>\n",
       "      <td>1</td>\n",
       "      <td>0</td>\n",
       "      <td>1</td>\n",
       "      <td>1</td>\n",
       "      <td>0</td>\n",
       "      <td>2</td>\n",
       "      <td>0.2</td>\n",
       "      <td>0.197</td>\n",
       "      <td>0.47</td>\n",
       "      <td>0.2239</td>\n",
       "      <td>1</td>\n",
       "      <td>16</td>\n",
       "      <td>2011</td>\n",
       "    </tr>\n",
       "    <tr>\n",
       "      <th>373</th>\n",
       "      <td>2011-01-17</td>\n",
       "      <td>1</td>\n",
       "      <td>0</td>\n",
       "      <td>1</td>\n",
       "      <td>1</td>\n",
       "      <td>1</td>\n",
       "      <td>1</td>\n",
       "      <td>0</td>\n",
       "      <td>2</td>\n",
       "      <td>0.2</td>\n",
       "      <td>0.197</td>\n",
       "      <td>0.44</td>\n",
       "      <td>0.1940</td>\n",
       "      <td>1</td>\n",
       "      <td>15</td>\n",
       "      <td>2011</td>\n",
       "    </tr>\n",
       "  </tbody>\n",
       "</table>\n",
       "</div>"
      ],
      "text/plain": [
       "         dteday  season  yr  mnth  hr  holiday  weekday  workingday  \\\n",
       "372  2011-01-17       1   0     1   0        1        1           0   \n",
       "373  2011-01-17       1   0     1   1        1        1           0   \n",
       "\n",
       "     weathersit  temp  atemp   hum  windspeed  casual  registered  year  \n",
       "372           2   0.2  0.197  0.47     0.2239       1          16  2011  \n",
       "373           2   0.2  0.197  0.44     0.1940       1          15  2011  "
      ]
     },
     "execution_count": 87,
     "metadata": {},
     "output_type": "execute_result"
    }
   ],
   "source": [
    "bikes_holiday = bikes[bikes.holiday == 1]\n",
    "bikes_holiday.head(2)"
   ]
  },
  {
   "cell_type": "markdown",
   "metadata": {},
   "source": [
    "<b> Quick stat about numeric features<b>"
   ]
  },
  {
   "cell_type": "markdown",
   "metadata": {},
   "source": [
    "Lets look at the quick statistics about this dataset. "
   ]
  },
  {
   "cell_type": "code",
   "execution_count": 89,
   "metadata": {},
   "outputs": [
    {
     "data": {
      "text/html": [
       "<div>\n",
       "<style scoped>\n",
       "    .dataframe tbody tr th:only-of-type {\n",
       "        vertical-align: middle;\n",
       "    }\n",
       "\n",
       "    .dataframe tbody tr th {\n",
       "        vertical-align: top;\n",
       "    }\n",
       "\n",
       "    .dataframe thead th {\n",
       "        text-align: right;\n",
       "    }\n",
       "</style>\n",
       "<table border=\"1\" class=\"dataframe\">\n",
       "  <thead>\n",
       "    <tr style=\"text-align: right;\">\n",
       "      <th></th>\n",
       "      <th>season</th>\n",
       "      <th>yr</th>\n",
       "      <th>mnth</th>\n",
       "      <th>hr</th>\n",
       "      <th>holiday</th>\n",
       "      <th>weekday</th>\n",
       "      <th>workingday</th>\n",
       "      <th>weathersit</th>\n",
       "      <th>temp</th>\n",
       "      <th>atemp</th>\n",
       "      <th>hum</th>\n",
       "      <th>windspeed</th>\n",
       "      <th>casual</th>\n",
       "      <th>registered</th>\n",
       "      <th>year</th>\n",
       "    </tr>\n",
       "  </thead>\n",
       "  <tbody>\n",
       "    <tr>\n",
       "      <th>count</th>\n",
       "      <td>17379.000000</td>\n",
       "      <td>17379.000000</td>\n",
       "      <td>17379.000000</td>\n",
       "      <td>17379.000000</td>\n",
       "      <td>17379.000000</td>\n",
       "      <td>17379.000000</td>\n",
       "      <td>17379.000000</td>\n",
       "      <td>17379.000000</td>\n",
       "      <td>17379.000000</td>\n",
       "      <td>17379.000000</td>\n",
       "      <td>17379.000000</td>\n",
       "      <td>17379.000000</td>\n",
       "      <td>17379.000000</td>\n",
       "      <td>17379.000000</td>\n",
       "      <td>17379.000000</td>\n",
       "    </tr>\n",
       "    <tr>\n",
       "      <th>mean</th>\n",
       "      <td>2.501640</td>\n",
       "      <td>0.502561</td>\n",
       "      <td>6.537775</td>\n",
       "      <td>11.546752</td>\n",
       "      <td>0.028770</td>\n",
       "      <td>3.003683</td>\n",
       "      <td>0.682721</td>\n",
       "      <td>1.425283</td>\n",
       "      <td>0.496987</td>\n",
       "      <td>0.475775</td>\n",
       "      <td>0.627229</td>\n",
       "      <td>0.190098</td>\n",
       "      <td>35.676218</td>\n",
       "      <td>153.786869</td>\n",
       "      <td>2011.502561</td>\n",
       "    </tr>\n",
       "    <tr>\n",
       "      <th>std</th>\n",
       "      <td>1.106918</td>\n",
       "      <td>0.500008</td>\n",
       "      <td>3.438776</td>\n",
       "      <td>6.914405</td>\n",
       "      <td>0.167165</td>\n",
       "      <td>2.005771</td>\n",
       "      <td>0.465431</td>\n",
       "      <td>0.639357</td>\n",
       "      <td>0.192556</td>\n",
       "      <td>0.171850</td>\n",
       "      <td>0.192930</td>\n",
       "      <td>0.122340</td>\n",
       "      <td>49.305030</td>\n",
       "      <td>151.357286</td>\n",
       "      <td>0.500008</td>\n",
       "    </tr>\n",
       "    <tr>\n",
       "      <th>min</th>\n",
       "      <td>1.000000</td>\n",
       "      <td>0.000000</td>\n",
       "      <td>1.000000</td>\n",
       "      <td>0.000000</td>\n",
       "      <td>0.000000</td>\n",
       "      <td>0.000000</td>\n",
       "      <td>0.000000</td>\n",
       "      <td>1.000000</td>\n",
       "      <td>0.020000</td>\n",
       "      <td>0.000000</td>\n",
       "      <td>0.000000</td>\n",
       "      <td>0.000000</td>\n",
       "      <td>0.000000</td>\n",
       "      <td>0.000000</td>\n",
       "      <td>2011.000000</td>\n",
       "    </tr>\n",
       "    <tr>\n",
       "      <th>25%</th>\n",
       "      <td>2.000000</td>\n",
       "      <td>0.000000</td>\n",
       "      <td>4.000000</td>\n",
       "      <td>6.000000</td>\n",
       "      <td>0.000000</td>\n",
       "      <td>1.000000</td>\n",
       "      <td>0.000000</td>\n",
       "      <td>1.000000</td>\n",
       "      <td>0.340000</td>\n",
       "      <td>0.333300</td>\n",
       "      <td>0.480000</td>\n",
       "      <td>0.104500</td>\n",
       "      <td>4.000000</td>\n",
       "      <td>34.000000</td>\n",
       "      <td>2011.000000</td>\n",
       "    </tr>\n",
       "    <tr>\n",
       "      <th>50%</th>\n",
       "      <td>3.000000</td>\n",
       "      <td>1.000000</td>\n",
       "      <td>7.000000</td>\n",
       "      <td>12.000000</td>\n",
       "      <td>0.000000</td>\n",
       "      <td>3.000000</td>\n",
       "      <td>1.000000</td>\n",
       "      <td>1.000000</td>\n",
       "      <td>0.500000</td>\n",
       "      <td>0.484800</td>\n",
       "      <td>0.630000</td>\n",
       "      <td>0.194000</td>\n",
       "      <td>17.000000</td>\n",
       "      <td>115.000000</td>\n",
       "      <td>2012.000000</td>\n",
       "    </tr>\n",
       "    <tr>\n",
       "      <th>75%</th>\n",
       "      <td>3.000000</td>\n",
       "      <td>1.000000</td>\n",
       "      <td>10.000000</td>\n",
       "      <td>18.000000</td>\n",
       "      <td>0.000000</td>\n",
       "      <td>5.000000</td>\n",
       "      <td>1.000000</td>\n",
       "      <td>2.000000</td>\n",
       "      <td>0.660000</td>\n",
       "      <td>0.621200</td>\n",
       "      <td>0.780000</td>\n",
       "      <td>0.253700</td>\n",
       "      <td>48.000000</td>\n",
       "      <td>220.000000</td>\n",
       "      <td>2012.000000</td>\n",
       "    </tr>\n",
       "    <tr>\n",
       "      <th>max</th>\n",
       "      <td>4.000000</td>\n",
       "      <td>1.000000</td>\n",
       "      <td>12.000000</td>\n",
       "      <td>23.000000</td>\n",
       "      <td>1.000000</td>\n",
       "      <td>6.000000</td>\n",
       "      <td>1.000000</td>\n",
       "      <td>4.000000</td>\n",
       "      <td>1.000000</td>\n",
       "      <td>1.000000</td>\n",
       "      <td>1.000000</td>\n",
       "      <td>0.850700</td>\n",
       "      <td>367.000000</td>\n",
       "      <td>886.000000</td>\n",
       "      <td>2012.000000</td>\n",
       "    </tr>\n",
       "  </tbody>\n",
       "</table>\n",
       "</div>"
      ],
      "text/plain": [
       "             season            yr          mnth            hr       holiday  \\\n",
       "count  17379.000000  17379.000000  17379.000000  17379.000000  17379.000000   \n",
       "mean       2.501640      0.502561      6.537775     11.546752      0.028770   \n",
       "std        1.106918      0.500008      3.438776      6.914405      0.167165   \n",
       "min        1.000000      0.000000      1.000000      0.000000      0.000000   \n",
       "25%        2.000000      0.000000      4.000000      6.000000      0.000000   \n",
       "50%        3.000000      1.000000      7.000000     12.000000      0.000000   \n",
       "75%        3.000000      1.000000     10.000000     18.000000      0.000000   \n",
       "max        4.000000      1.000000     12.000000     23.000000      1.000000   \n",
       "\n",
       "            weekday    workingday    weathersit          temp         atemp  \\\n",
       "count  17379.000000  17379.000000  17379.000000  17379.000000  17379.000000   \n",
       "mean       3.003683      0.682721      1.425283      0.496987      0.475775   \n",
       "std        2.005771      0.465431      0.639357      0.192556      0.171850   \n",
       "min        0.000000      0.000000      1.000000      0.020000      0.000000   \n",
       "25%        1.000000      0.000000      1.000000      0.340000      0.333300   \n",
       "50%        3.000000      1.000000      1.000000      0.500000      0.484800   \n",
       "75%        5.000000      1.000000      2.000000      0.660000      0.621200   \n",
       "max        6.000000      1.000000      4.000000      1.000000      1.000000   \n",
       "\n",
       "                hum     windspeed        casual    registered          year  \n",
       "count  17379.000000  17379.000000  17379.000000  17379.000000  17379.000000  \n",
       "mean       0.627229      0.190098     35.676218    153.786869   2011.502561  \n",
       "std        0.192930      0.122340     49.305030    151.357286      0.500008  \n",
       "min        0.000000      0.000000      0.000000      0.000000   2011.000000  \n",
       "25%        0.480000      0.104500      4.000000     34.000000   2011.000000  \n",
       "50%        0.630000      0.194000     17.000000    115.000000   2012.000000  \n",
       "75%        0.780000      0.253700     48.000000    220.000000   2012.000000  \n",
       "max        1.000000      0.850700    367.000000    886.000000   2012.000000  "
      ]
     },
     "execution_count": 89,
     "metadata": {},
     "output_type": "execute_result"
    }
   ],
   "source": [
    "bikes.describe()"
   ]
  },
  {
   "cell_type": "markdown",
   "metadata": {},
   "source": [
    "Lets look at users statistics : "
   ]
  },
  {
   "cell_type": "code",
   "execution_count": 91,
   "metadata": {},
   "outputs": [
    {
     "data": {
      "text/plain": [
       "count    17379.000000\n",
       "mean        35.676218\n",
       "std         49.305030\n",
       "min          0.000000\n",
       "25%          4.000000\n",
       "50%         17.000000\n",
       "75%         48.000000\n",
       "max        367.000000\n",
       "Name: casual, dtype: float64"
      ]
     },
     "execution_count": 91,
     "metadata": {},
     "output_type": "execute_result"
    }
   ],
   "source": [
    "bikes.casual.describe()  #casual users stat"
   ]
  },
  {
   "cell_type": "code",
   "execution_count": 93,
   "metadata": {},
   "outputs": [
    {
     "data": {
      "text/plain": [
       "count    17379.000000\n",
       "mean       153.786869\n",
       "std        151.357286\n",
       "min          0.000000\n",
       "25%         34.000000\n",
       "50%        115.000000\n",
       "75%        220.000000\n",
       "max        886.000000\n",
       "Name: registered, dtype: float64"
      ]
     },
     "execution_count": 93,
     "metadata": {},
     "output_type": "execute_result"
    }
   ],
   "source": [
    "bikes.registered.describe()  #registered users stat"
   ]
  },
  {
   "cell_type": "markdown",
   "metadata": {},
   "source": [
    "# Step3 - Group-by and Concat /Merge"
   ]
  },
  {
   "cell_type": "markdown",
   "metadata": {},
   "source": [
    "<b> Group by based on single feature<b>"
   ]
  },
  {
   "cell_type": "markdown",
   "metadata": {},
   "source": [
    "There are four seasons for which bike shairing data is collected. Lets figure out how many users are using this service as per different seasons."
   ]
  },
  {
   "cell_type": "code",
   "execution_count": 95,
   "metadata": {},
   "outputs": [
    {
     "data": {
      "text/plain": [
       "pandas.core.groupby.generic.DataFrameGroupBy"
      ]
     },
     "execution_count": 95,
     "metadata": {},
     "output_type": "execute_result"
    }
   ],
   "source": [
    "#First create the group by \n",
    "df_by_seasons = bikes.groupby(\"season\")\n",
    "type(df_by_seasons)"
   ]
  },
  {
   "cell_type": "code",
   "execution_count": 103,
   "metadata": {},
   "outputs": [
    {
     "data": {
      "text/plain": [
       "<pandas.core.groupby.generic.DataFrameGroupBy object at 0x0000016B9A8878F0>"
      ]
     },
     "execution_count": 103,
     "metadata": {},
     "output_type": "execute_result"
    }
   ],
   "source": [
    "df_by_seasons"
   ]
  },
  {
   "cell_type": "code",
   "execution_count": 105,
   "metadata": {},
   "outputs": [
    {
     "data": {
      "text/plain": [
       "season\n",
       "1     60622\n",
       "2    203522\n",
       "3    226091\n",
       "4    129782\n",
       "Name: casual, dtype: int64"
      ]
     },
     "execution_count": 105,
     "metadata": {},
     "output_type": "execute_result"
    }
   ],
   "source": [
    "#sum(\"casual\") group by season\n",
    "df_by_seasons[\"casual\"].sum()"
   ]
  },
  {
   "cell_type": "code",
   "execution_count": 107,
   "metadata": {},
   "outputs": [
    {
     "data": {
      "text/plain": [
       "season\n",
       "1    410726\n",
       "2    715067\n",
       "3    835038\n",
       "4    711831\n",
       "Name: registered, dtype: int64"
      ]
     },
     "execution_count": 107,
     "metadata": {},
     "output_type": "execute_result"
    }
   ],
   "source": [
    "#sum(\"registered\") group by season\n",
    "df_by_seasons[\"registered\"].sum()"
   ]
  },
  {
   "cell_type": "code",
   "execution_count": 109,
   "metadata": {},
   "outputs": [
    {
     "data": {
      "text/plain": [
       "season\n",
       "1    410726\n",
       "4    711831\n",
       "2    715067\n",
       "3    835038\n",
       "Name: registered, dtype: int64"
      ]
     },
     "execution_count": 109,
     "metadata": {},
     "output_type": "execute_result"
    }
   ],
   "source": [
    "#sum(\"registered\") group by season , sort in ascending order\n",
    "df_by_seasons[\"registered\"].sum().sort_values()"
   ]
  },
  {
   "cell_type": "code",
   "execution_count": 111,
   "metadata": {},
   "outputs": [
    {
     "data": {
      "text/plain": [
       "season\n",
       "3    835038\n",
       "2    715067\n",
       "4    711831\n",
       "1    410726\n",
       "Name: registered, dtype: int64"
      ]
     },
     "execution_count": 111,
     "metadata": {},
     "output_type": "execute_result"
    }
   ],
   "source": [
    "#sum(\"registered\") group by season , sort in descending order\n",
    "df_by_seasons[\"registered\"].sum().sort_values(ascending=False)"
   ]
  },
  {
   "cell_type": "markdown",
   "metadata": {},
   "source": [
    "Combine the outcome of two group by into single data frame. "
   ]
  },
  {
   "cell_type": "code",
   "execution_count": 114,
   "metadata": {},
   "outputs": [
    {
     "data": {
      "text/plain": [
       "season\n",
       "1     60622\n",
       "2    203522\n",
       "3    226091\n",
       "4    129782\n",
       "Name: casual, dtype: int64"
      ]
     },
     "execution_count": 114,
     "metadata": {},
     "output_type": "execute_result"
    }
   ],
   "source": [
    "#Create the summarized data for casual users\n",
    "df_casual = df_by_seasons[\"casual\"].sum()\n",
    "df_casual"
   ]
  },
  {
   "cell_type": "code",
   "execution_count": 116,
   "metadata": {},
   "outputs": [
    {
     "data": {
      "text/plain": [
       "season\n",
       "1    410726\n",
       "2    715067\n",
       "3    835038\n",
       "4    711831\n",
       "Name: registered, dtype: int64"
      ]
     },
     "execution_count": 116,
     "metadata": {},
     "output_type": "execute_result"
    }
   ],
   "source": [
    "#Create the summarized data for registered users\n",
    "df_registered = df_by_seasons[\"registered\"].sum()\n",
    "df_registered"
   ]
  },
  {
   "cell_type": "code",
   "execution_count": 126,
   "metadata": {},
   "outputs": [
    {
     "data": {
      "text/html": [
       "<div>\n",
       "<style scoped>\n",
       "    .dataframe tbody tr th:only-of-type {\n",
       "        vertical-align: middle;\n",
       "    }\n",
       "\n",
       "    .dataframe tbody tr th {\n",
       "        vertical-align: top;\n",
       "    }\n",
       "\n",
       "    .dataframe thead th {\n",
       "        text-align: right;\n",
       "    }\n",
       "</style>\n",
       "<table border=\"1\" class=\"dataframe\">\n",
       "  <thead>\n",
       "    <tr style=\"text-align: right;\">\n",
       "      <th></th>\n",
       "      <th>casual</th>\n",
       "      <th>registered</th>\n",
       "    </tr>\n",
       "    <tr>\n",
       "      <th>season</th>\n",
       "      <th></th>\n",
       "      <th></th>\n",
       "    </tr>\n",
       "  </thead>\n",
       "  <tbody>\n",
       "    <tr>\n",
       "      <th>1</th>\n",
       "      <td>60622</td>\n",
       "      <td>410726</td>\n",
       "    </tr>\n",
       "    <tr>\n",
       "      <th>2</th>\n",
       "      <td>203522</td>\n",
       "      <td>715067</td>\n",
       "    </tr>\n",
       "    <tr>\n",
       "      <th>3</th>\n",
       "      <td>226091</td>\n",
       "      <td>835038</td>\n",
       "    </tr>\n",
       "    <tr>\n",
       "      <th>4</th>\n",
       "      <td>129782</td>\n",
       "      <td>711831</td>\n",
       "    </tr>\n",
       "  </tbody>\n",
       "</table>\n",
       "</div>"
      ],
      "text/plain": [
       "        casual  registered\n",
       "season                    \n",
       "1        60622      410726\n",
       "2       203522      715067\n",
       "3       226091      835038\n",
       "4       129782      711831"
      ]
     },
     "execution_count": 126,
     "metadata": {},
     "output_type": "execute_result"
    }
   ],
   "source": [
    "#Combine the two frames into single one using pandas concat feature\n",
    "frames = [df_casual, df_registered]\n",
    "df_seasons = pd.concat(frames, axis=1)\n",
    "df_seasons"
   ]
  },
  {
   "cell_type": "code",
   "execution_count": 130,
   "metadata": {},
   "outputs": [
    {
     "data": {
      "text/html": [
       "<div>\n",
       "<style scoped>\n",
       "    .dataframe tbody tr th:only-of-type {\n",
       "        vertical-align: middle;\n",
       "    }\n",
       "\n",
       "    .dataframe tbody tr th {\n",
       "        vertical-align: top;\n",
       "    }\n",
       "\n",
       "    .dataframe thead th {\n",
       "        text-align: right;\n",
       "    }\n",
       "</style>\n",
       "<table border=\"1\" class=\"dataframe\">\n",
       "  <thead>\n",
       "    <tr style=\"text-align: right;\">\n",
       "      <th></th>\n",
       "      <th>casual</th>\n",
       "      <th>registered</th>\n",
       "      <th>total</th>\n",
       "    </tr>\n",
       "    <tr>\n",
       "      <th>season</th>\n",
       "      <th></th>\n",
       "      <th></th>\n",
       "      <th></th>\n",
       "    </tr>\n",
       "  </thead>\n",
       "  <tbody>\n",
       "    <tr>\n",
       "      <th>1</th>\n",
       "      <td>60622</td>\n",
       "      <td>410726</td>\n",
       "      <td>471348</td>\n",
       "    </tr>\n",
       "    <tr>\n",
       "      <th>2</th>\n",
       "      <td>203522</td>\n",
       "      <td>715067</td>\n",
       "      <td>918589</td>\n",
       "    </tr>\n",
       "    <tr>\n",
       "      <th>3</th>\n",
       "      <td>226091</td>\n",
       "      <td>835038</td>\n",
       "      <td>1061129</td>\n",
       "    </tr>\n",
       "    <tr>\n",
       "      <th>4</th>\n",
       "      <td>129782</td>\n",
       "      <td>711831</td>\n",
       "      <td>841613</td>\n",
       "    </tr>\n",
       "  </tbody>\n",
       "</table>\n",
       "</div>"
      ],
      "text/plain": [
       "        casual  registered    total\n",
       "season                             \n",
       "1        60622      410726   471348\n",
       "2       203522      715067   918589\n",
       "3       226091      835038  1061129\n",
       "4       129782      711831   841613"
      ]
     },
     "execution_count": 130,
     "metadata": {},
     "output_type": "execute_result"
    }
   ],
   "source": [
    "#Add the rowwise total for each season\n",
    "df_seasons[\"total\"] = df_seasons[\"casual\"] + df_seasons[\"registered\"]\n",
    "df_seasons"
   ]
  },
  {
   "cell_type": "markdown",
   "metadata": {},
   "source": [
    "<b> Group by based on multiple features<b>"
   ]
  },
  {
   "cell_type": "markdown",
   "metadata": {},
   "source": [
    "Lets explore how more than one attributes can be used in group by clause. Average number of users for different years and months can be found as follows :"
   ]
  },
  {
   "cell_type": "code",
   "execution_count": 132,
   "metadata": {},
   "outputs": [],
   "source": [
    "#Create the group by based on year and months\n",
    "df_by_year_months = bikes.groupby([\"year\", \"mnth\"])"
   ]
  },
  {
   "cell_type": "code",
   "execution_count": 134,
   "metadata": {},
   "outputs": [
    {
     "data": {
      "text/plain": [
       "year  mnth\n",
       "2011  1        4.466570\n",
       "      2        9.617874\n",
       "      3       17.569863\n",
       "      4       31.079277\n",
       "      5       41.733871\n",
       "      6       42.516667\n",
       "      7       48.994624\n",
       "      8       39.455540\n",
       "      9       37.022315\n",
       "      10      33.946164\n",
       "      11      21.688456\n",
       "      12      11.400810\n",
       "2012  1       12.103914\n",
       "      2       12.602601\n",
       "      3       42.554509\n",
       "      4       53.559889\n",
       "      5       59.455645\n",
       "      6       60.130556\n",
       "      7       56.055108\n",
       "      8       58.060484\n",
       "      9       60.802778\n",
       "      10      48.782486\n",
       "      11      29.260446\n",
       "      12      17.850404\n",
       "Name: casual, dtype: float64"
      ]
     },
     "execution_count": 134,
     "metadata": {},
     "output_type": "execute_result"
    }
   ],
   "source": [
    "#Compute the average number of casual users per month per year\n",
    "series_casual = df_by_year_months[\"casual\"].mean()\n",
    "series_casual "
   ]
  },
  {
   "cell_type": "code",
   "execution_count": 136,
   "metadata": {},
   "outputs": [
    {
     "data": {
      "text/plain": [
       "year  mnth\n",
       "2011  1        51.040698\n",
       "      2        64.673344\n",
       "      3        70.163014\n",
       "      4       100.867872\n",
       "      5       140.821237\n",
       "      6       156.805556\n",
       "      7       140.979839\n",
       "      8       147.536252\n",
       "      9       140.687587\n",
       "      10      132.286676\n",
       "      11      120.407510\n",
       "      12      106.443995\n",
       "2012  1       118.454791\n",
       "      2       136.439306\n",
       "      3       179.349933\n",
       "      4       189.091922\n",
       "      5       203.803763\n",
       "      6       221.577778\n",
       "      7       217.610215\n",
       "      8       230.250000\n",
       "      9       242.770833\n",
       "      10      232.066384\n",
       "      11      183.363510\n",
       "      12      148.878706\n",
       "Name: registered, dtype: float64"
      ]
     },
     "execution_count": 136,
     "metadata": {},
     "output_type": "execute_result"
    }
   ],
   "source": [
    "#Compute the average number of registered users per month per year\n",
    "series_registered = df_by_year_months[\"registered\"].mean()\n",
    "series_registered "
   ]
  },
  {
   "cell_type": "code",
   "execution_count": 138,
   "metadata": {},
   "outputs": [
    {
     "data": {
      "text/html": [
       "<div>\n",
       "<style scoped>\n",
       "    .dataframe tbody tr th:only-of-type {\n",
       "        vertical-align: middle;\n",
       "    }\n",
       "\n",
       "    .dataframe tbody tr th {\n",
       "        vertical-align: top;\n",
       "    }\n",
       "\n",
       "    .dataframe thead th {\n",
       "        text-align: right;\n",
       "    }\n",
       "</style>\n",
       "<table border=\"1\" class=\"dataframe\">\n",
       "  <thead>\n",
       "    <tr style=\"text-align: right;\">\n",
       "      <th></th>\n",
       "      <th></th>\n",
       "      <th>casual</th>\n",
       "      <th>registered</th>\n",
       "    </tr>\n",
       "    <tr>\n",
       "      <th>year</th>\n",
       "      <th>mnth</th>\n",
       "      <th></th>\n",
       "      <th></th>\n",
       "    </tr>\n",
       "  </thead>\n",
       "  <tbody>\n",
       "    <tr>\n",
       "      <th rowspan=\"12\" valign=\"top\">2011</th>\n",
       "      <th>1</th>\n",
       "      <td>4.466570</td>\n",
       "      <td>51.040698</td>\n",
       "    </tr>\n",
       "    <tr>\n",
       "      <th>2</th>\n",
       "      <td>9.617874</td>\n",
       "      <td>64.673344</td>\n",
       "    </tr>\n",
       "    <tr>\n",
       "      <th>3</th>\n",
       "      <td>17.569863</td>\n",
       "      <td>70.163014</td>\n",
       "    </tr>\n",
       "    <tr>\n",
       "      <th>4</th>\n",
       "      <td>31.079277</td>\n",
       "      <td>100.867872</td>\n",
       "    </tr>\n",
       "    <tr>\n",
       "      <th>5</th>\n",
       "      <td>41.733871</td>\n",
       "      <td>140.821237</td>\n",
       "    </tr>\n",
       "    <tr>\n",
       "      <th>6</th>\n",
       "      <td>42.516667</td>\n",
       "      <td>156.805556</td>\n",
       "    </tr>\n",
       "    <tr>\n",
       "      <th>7</th>\n",
       "      <td>48.994624</td>\n",
       "      <td>140.979839</td>\n",
       "    </tr>\n",
       "    <tr>\n",
       "      <th>8</th>\n",
       "      <td>39.455540</td>\n",
       "      <td>147.536252</td>\n",
       "    </tr>\n",
       "    <tr>\n",
       "      <th>9</th>\n",
       "      <td>37.022315</td>\n",
       "      <td>140.687587</td>\n",
       "    </tr>\n",
       "    <tr>\n",
       "      <th>10</th>\n",
       "      <td>33.946164</td>\n",
       "      <td>132.286676</td>\n",
       "    </tr>\n",
       "    <tr>\n",
       "      <th>11</th>\n",
       "      <td>21.688456</td>\n",
       "      <td>120.407510</td>\n",
       "    </tr>\n",
       "    <tr>\n",
       "      <th>12</th>\n",
       "      <td>11.400810</td>\n",
       "      <td>106.443995</td>\n",
       "    </tr>\n",
       "    <tr>\n",
       "      <th rowspan=\"12\" valign=\"top\">2012</th>\n",
       "      <th>1</th>\n",
       "      <td>12.103914</td>\n",
       "      <td>118.454791</td>\n",
       "    </tr>\n",
       "    <tr>\n",
       "      <th>2</th>\n",
       "      <td>12.602601</td>\n",
       "      <td>136.439306</td>\n",
       "    </tr>\n",
       "    <tr>\n",
       "      <th>3</th>\n",
       "      <td>42.554509</td>\n",
       "      <td>179.349933</td>\n",
       "    </tr>\n",
       "    <tr>\n",
       "      <th>4</th>\n",
       "      <td>53.559889</td>\n",
       "      <td>189.091922</td>\n",
       "    </tr>\n",
       "    <tr>\n",
       "      <th>5</th>\n",
       "      <td>59.455645</td>\n",
       "      <td>203.803763</td>\n",
       "    </tr>\n",
       "    <tr>\n",
       "      <th>6</th>\n",
       "      <td>60.130556</td>\n",
       "      <td>221.577778</td>\n",
       "    </tr>\n",
       "    <tr>\n",
       "      <th>7</th>\n",
       "      <td>56.055108</td>\n",
       "      <td>217.610215</td>\n",
       "    </tr>\n",
       "    <tr>\n",
       "      <th>8</th>\n",
       "      <td>58.060484</td>\n",
       "      <td>230.250000</td>\n",
       "    </tr>\n",
       "    <tr>\n",
       "      <th>9</th>\n",
       "      <td>60.802778</td>\n",
       "      <td>242.770833</td>\n",
       "    </tr>\n",
       "    <tr>\n",
       "      <th>10</th>\n",
       "      <td>48.782486</td>\n",
       "      <td>232.066384</td>\n",
       "    </tr>\n",
       "    <tr>\n",
       "      <th>11</th>\n",
       "      <td>29.260446</td>\n",
       "      <td>183.363510</td>\n",
       "    </tr>\n",
       "    <tr>\n",
       "      <th>12</th>\n",
       "      <td>17.850404</td>\n",
       "      <td>148.878706</td>\n",
       "    </tr>\n",
       "  </tbody>\n",
       "</table>\n",
       "</div>"
      ],
      "text/plain": [
       "              casual  registered\n",
       "year mnth                       \n",
       "2011 1      4.466570   51.040698\n",
       "     2      9.617874   64.673344\n",
       "     3     17.569863   70.163014\n",
       "     4     31.079277  100.867872\n",
       "     5     41.733871  140.821237\n",
       "     6     42.516667  156.805556\n",
       "     7     48.994624  140.979839\n",
       "     8     39.455540  147.536252\n",
       "     9     37.022315  140.687587\n",
       "     10    33.946164  132.286676\n",
       "     11    21.688456  120.407510\n",
       "     12    11.400810  106.443995\n",
       "2012 1     12.103914  118.454791\n",
       "     2     12.602601  136.439306\n",
       "     3     42.554509  179.349933\n",
       "     4     53.559889  189.091922\n",
       "     5     59.455645  203.803763\n",
       "     6     60.130556  221.577778\n",
       "     7     56.055108  217.610215\n",
       "     8     58.060484  230.250000\n",
       "     9     60.802778  242.770833\n",
       "     10    48.782486  232.066384\n",
       "     11    29.260446  183.363510\n",
       "     12    17.850404  148.878706"
      ]
     },
     "execution_count": 138,
     "metadata": {},
     "output_type": "execute_result"
    }
   ],
   "source": [
    "#Concatenate the results of two data frames\n",
    "df_casual = pd.DataFrame(series_casual)\n",
    "#df_casual\n",
    "df_registered = pd.DataFrame(series_registered)\n",
    "#df_registered\n",
    "df_year_month = pd.merge(df_casual,df_registered, on=['year', 'mnth'])\n",
    "df_year_month"
   ]
  },
  {
   "cell_type": "code",
   "execution_count": 140,
   "metadata": {},
   "outputs": [],
   "source": [
    "df_year_month[\"total\"] = df_year_month[\"casual\"] + df_year_month[\"registered\"]"
   ]
  },
  {
   "cell_type": "code",
   "execution_count": 142,
   "metadata": {},
   "outputs": [
    {
     "data": {
      "text/html": [
       "<div>\n",
       "<style scoped>\n",
       "    .dataframe tbody tr th:only-of-type {\n",
       "        vertical-align: middle;\n",
       "    }\n",
       "\n",
       "    .dataframe tbody tr th {\n",
       "        vertical-align: top;\n",
       "    }\n",
       "\n",
       "    .dataframe thead th {\n",
       "        text-align: right;\n",
       "    }\n",
       "</style>\n",
       "<table border=\"1\" class=\"dataframe\">\n",
       "  <thead>\n",
       "    <tr style=\"text-align: right;\">\n",
       "      <th></th>\n",
       "      <th></th>\n",
       "      <th>casual</th>\n",
       "      <th>registered</th>\n",
       "      <th>total</th>\n",
       "    </tr>\n",
       "    <tr>\n",
       "      <th>year</th>\n",
       "      <th>mnth</th>\n",
       "      <th></th>\n",
       "      <th></th>\n",
       "      <th></th>\n",
       "    </tr>\n",
       "  </thead>\n",
       "  <tbody>\n",
       "    <tr>\n",
       "      <th rowspan=\"12\" valign=\"top\">2011</th>\n",
       "      <th>1</th>\n",
       "      <td>4.466570</td>\n",
       "      <td>51.040698</td>\n",
       "      <td>55.507267</td>\n",
       "    </tr>\n",
       "    <tr>\n",
       "      <th>2</th>\n",
       "      <td>9.617874</td>\n",
       "      <td>64.673344</td>\n",
       "      <td>74.291217</td>\n",
       "    </tr>\n",
       "    <tr>\n",
       "      <th>3</th>\n",
       "      <td>17.569863</td>\n",
       "      <td>70.163014</td>\n",
       "      <td>87.732877</td>\n",
       "    </tr>\n",
       "    <tr>\n",
       "      <th>4</th>\n",
       "      <td>31.079277</td>\n",
       "      <td>100.867872</td>\n",
       "      <td>131.947149</td>\n",
       "    </tr>\n",
       "    <tr>\n",
       "      <th>5</th>\n",
       "      <td>41.733871</td>\n",
       "      <td>140.821237</td>\n",
       "      <td>182.555108</td>\n",
       "    </tr>\n",
       "    <tr>\n",
       "      <th>6</th>\n",
       "      <td>42.516667</td>\n",
       "      <td>156.805556</td>\n",
       "      <td>199.322222</td>\n",
       "    </tr>\n",
       "    <tr>\n",
       "      <th>7</th>\n",
       "      <td>48.994624</td>\n",
       "      <td>140.979839</td>\n",
       "      <td>189.974462</td>\n",
       "    </tr>\n",
       "    <tr>\n",
       "      <th>8</th>\n",
       "      <td>39.455540</td>\n",
       "      <td>147.536252</td>\n",
       "      <td>186.991792</td>\n",
       "    </tr>\n",
       "    <tr>\n",
       "      <th>9</th>\n",
       "      <td>37.022315</td>\n",
       "      <td>140.687587</td>\n",
       "      <td>177.709902</td>\n",
       "    </tr>\n",
       "    <tr>\n",
       "      <th>10</th>\n",
       "      <td>33.946164</td>\n",
       "      <td>132.286676</td>\n",
       "      <td>166.232840</td>\n",
       "    </tr>\n",
       "    <tr>\n",
       "      <th>11</th>\n",
       "      <td>21.688456</td>\n",
       "      <td>120.407510</td>\n",
       "      <td>142.095967</td>\n",
       "    </tr>\n",
       "    <tr>\n",
       "      <th>12</th>\n",
       "      <td>11.400810</td>\n",
       "      <td>106.443995</td>\n",
       "      <td>117.844804</td>\n",
       "    </tr>\n",
       "    <tr>\n",
       "      <th rowspan=\"12\" valign=\"top\">2012</th>\n",
       "      <th>1</th>\n",
       "      <td>12.103914</td>\n",
       "      <td>118.454791</td>\n",
       "      <td>130.558704</td>\n",
       "    </tr>\n",
       "    <tr>\n",
       "      <th>2</th>\n",
       "      <td>12.602601</td>\n",
       "      <td>136.439306</td>\n",
       "      <td>149.041908</td>\n",
       "    </tr>\n",
       "    <tr>\n",
       "      <th>3</th>\n",
       "      <td>42.554509</td>\n",
       "      <td>179.349933</td>\n",
       "      <td>221.904441</td>\n",
       "    </tr>\n",
       "    <tr>\n",
       "      <th>4</th>\n",
       "      <td>53.559889</td>\n",
       "      <td>189.091922</td>\n",
       "      <td>242.651811</td>\n",
       "    </tr>\n",
       "    <tr>\n",
       "      <th>5</th>\n",
       "      <td>59.455645</td>\n",
       "      <td>203.803763</td>\n",
       "      <td>263.259409</td>\n",
       "    </tr>\n",
       "    <tr>\n",
       "      <th>6</th>\n",
       "      <td>60.130556</td>\n",
       "      <td>221.577778</td>\n",
       "      <td>281.708333</td>\n",
       "    </tr>\n",
       "    <tr>\n",
       "      <th>7</th>\n",
       "      <td>56.055108</td>\n",
       "      <td>217.610215</td>\n",
       "      <td>273.665323</td>\n",
       "    </tr>\n",
       "    <tr>\n",
       "      <th>8</th>\n",
       "      <td>58.060484</td>\n",
       "      <td>230.250000</td>\n",
       "      <td>288.310484</td>\n",
       "    </tr>\n",
       "    <tr>\n",
       "      <th>9</th>\n",
       "      <td>60.802778</td>\n",
       "      <td>242.770833</td>\n",
       "      <td>303.573611</td>\n",
       "    </tr>\n",
       "    <tr>\n",
       "      <th>10</th>\n",
       "      <td>48.782486</td>\n",
       "      <td>232.066384</td>\n",
       "      <td>280.848870</td>\n",
       "    </tr>\n",
       "    <tr>\n",
       "      <th>11</th>\n",
       "      <td>29.260446</td>\n",
       "      <td>183.363510</td>\n",
       "      <td>212.623955</td>\n",
       "    </tr>\n",
       "    <tr>\n",
       "      <th>12</th>\n",
       "      <td>17.850404</td>\n",
       "      <td>148.878706</td>\n",
       "      <td>166.729111</td>\n",
       "    </tr>\n",
       "  </tbody>\n",
       "</table>\n",
       "</div>"
      ],
      "text/plain": [
       "              casual  registered       total\n",
       "year mnth                                   \n",
       "2011 1      4.466570   51.040698   55.507267\n",
       "     2      9.617874   64.673344   74.291217\n",
       "     3     17.569863   70.163014   87.732877\n",
       "     4     31.079277  100.867872  131.947149\n",
       "     5     41.733871  140.821237  182.555108\n",
       "     6     42.516667  156.805556  199.322222\n",
       "     7     48.994624  140.979839  189.974462\n",
       "     8     39.455540  147.536252  186.991792\n",
       "     9     37.022315  140.687587  177.709902\n",
       "     10    33.946164  132.286676  166.232840\n",
       "     11    21.688456  120.407510  142.095967\n",
       "     12    11.400810  106.443995  117.844804\n",
       "2012 1     12.103914  118.454791  130.558704\n",
       "     2     12.602601  136.439306  149.041908\n",
       "     3     42.554509  179.349933  221.904441\n",
       "     4     53.559889  189.091922  242.651811\n",
       "     5     59.455645  203.803763  263.259409\n",
       "     6     60.130556  221.577778  281.708333\n",
       "     7     56.055108  217.610215  273.665323\n",
       "     8     58.060484  230.250000  288.310484\n",
       "     9     60.802778  242.770833  303.573611\n",
       "     10    48.782486  232.066384  280.848870\n",
       "     11    29.260446  183.363510  212.623955\n",
       "     12    17.850404  148.878706  166.729111"
      ]
     },
     "execution_count": 142,
     "metadata": {},
     "output_type": "execute_result"
    }
   ],
   "source": [
    "df_year_month"
   ]
  },
  {
   "cell_type": "markdown",
   "metadata": {},
   "source": [
    "# Step 4 - Writing data frames to CSV file"
   ]
  },
  {
   "cell_type": "markdown",
   "metadata": {},
   "source": [
    "Lets utilise the pandas function to write back the data frame to CSV file. "
   ]
  },
  {
   "cell_type": "code",
   "execution_count": 144,
   "metadata": {},
   "outputs": [
    {
     "data": {
      "text/html": [
       "<div>\n",
       "<style scoped>\n",
       "    .dataframe tbody tr th:only-of-type {\n",
       "        vertical-align: middle;\n",
       "    }\n",
       "\n",
       "    .dataframe tbody tr th {\n",
       "        vertical-align: top;\n",
       "    }\n",
       "\n",
       "    .dataframe thead th {\n",
       "        text-align: right;\n",
       "    }\n",
       "</style>\n",
       "<table border=\"1\" class=\"dataframe\">\n",
       "  <thead>\n",
       "    <tr style=\"text-align: right;\">\n",
       "      <th></th>\n",
       "      <th>casual</th>\n",
       "      <th>registered</th>\n",
       "      <th>total</th>\n",
       "    </tr>\n",
       "    <tr>\n",
       "      <th>season</th>\n",
       "      <th></th>\n",
       "      <th></th>\n",
       "      <th></th>\n",
       "    </tr>\n",
       "  </thead>\n",
       "  <tbody>\n",
       "    <tr>\n",
       "      <th>1</th>\n",
       "      <td>60622</td>\n",
       "      <td>410726</td>\n",
       "      <td>471348</td>\n",
       "    </tr>\n",
       "    <tr>\n",
       "      <th>2</th>\n",
       "      <td>203522</td>\n",
       "      <td>715067</td>\n",
       "      <td>918589</td>\n",
       "    </tr>\n",
       "    <tr>\n",
       "      <th>3</th>\n",
       "      <td>226091</td>\n",
       "      <td>835038</td>\n",
       "      <td>1061129</td>\n",
       "    </tr>\n",
       "    <tr>\n",
       "      <th>4</th>\n",
       "      <td>129782</td>\n",
       "      <td>711831</td>\n",
       "      <td>841613</td>\n",
       "    </tr>\n",
       "  </tbody>\n",
       "</table>\n",
       "</div>"
      ],
      "text/plain": [
       "        casual  registered    total\n",
       "season                             \n",
       "1        60622      410726   471348\n",
       "2       203522      715067   918589\n",
       "3       226091      835038  1061129\n",
       "4       129782      711831   841613"
      ]
     },
     "execution_count": 144,
     "metadata": {},
     "output_type": "execute_result"
    }
   ],
   "source": [
    "df_seasons.head()"
   ]
  },
  {
   "cell_type": "code",
   "execution_count": 146,
   "metadata": {},
   "outputs": [],
   "source": [
    "df_seasons.to_csv(\"file1.csv\")"
   ]
  },
  {
   "cell_type": "code",
   "execution_count": 148,
   "metadata": {},
   "outputs": [
    {
     "data": {
      "text/html": [
       "<div>\n",
       "<style scoped>\n",
       "    .dataframe tbody tr th:only-of-type {\n",
       "        vertical-align: middle;\n",
       "    }\n",
       "\n",
       "    .dataframe tbody tr th {\n",
       "        vertical-align: top;\n",
       "    }\n",
       "\n",
       "    .dataframe thead th {\n",
       "        text-align: right;\n",
       "    }\n",
       "</style>\n",
       "<table border=\"1\" class=\"dataframe\">\n",
       "  <thead>\n",
       "    <tr style=\"text-align: right;\">\n",
       "      <th></th>\n",
       "      <th></th>\n",
       "      <th>casual</th>\n",
       "      <th>registered</th>\n",
       "      <th>total</th>\n",
       "    </tr>\n",
       "    <tr>\n",
       "      <th>year</th>\n",
       "      <th>mnth</th>\n",
       "      <th></th>\n",
       "      <th></th>\n",
       "      <th></th>\n",
       "    </tr>\n",
       "  </thead>\n",
       "  <tbody>\n",
       "    <tr>\n",
       "      <th rowspan=\"5\" valign=\"top\">2011</th>\n",
       "      <th>1</th>\n",
       "      <td>4.466570</td>\n",
       "      <td>51.040698</td>\n",
       "      <td>55.507267</td>\n",
       "    </tr>\n",
       "    <tr>\n",
       "      <th>2</th>\n",
       "      <td>9.617874</td>\n",
       "      <td>64.673344</td>\n",
       "      <td>74.291217</td>\n",
       "    </tr>\n",
       "    <tr>\n",
       "      <th>3</th>\n",
       "      <td>17.569863</td>\n",
       "      <td>70.163014</td>\n",
       "      <td>87.732877</td>\n",
       "    </tr>\n",
       "    <tr>\n",
       "      <th>4</th>\n",
       "      <td>31.079277</td>\n",
       "      <td>100.867872</td>\n",
       "      <td>131.947149</td>\n",
       "    </tr>\n",
       "    <tr>\n",
       "      <th>5</th>\n",
       "      <td>41.733871</td>\n",
       "      <td>140.821237</td>\n",
       "      <td>182.555108</td>\n",
       "    </tr>\n",
       "  </tbody>\n",
       "</table>\n",
       "</div>"
      ],
      "text/plain": [
       "              casual  registered       total\n",
       "year mnth                                   \n",
       "2011 1      4.466570   51.040698   55.507267\n",
       "     2      9.617874   64.673344   74.291217\n",
       "     3     17.569863   70.163014   87.732877\n",
       "     4     31.079277  100.867872  131.947149\n",
       "     5     41.733871  140.821237  182.555108"
      ]
     },
     "execution_count": 148,
     "metadata": {},
     "output_type": "execute_result"
    }
   ],
   "source": [
    "df_year_month.head()"
   ]
  },
  {
   "cell_type": "code",
   "execution_count": 150,
   "metadata": {},
   "outputs": [],
   "source": [
    "df_year_month.to_csv(\"file2.csv\")"
   ]
  },
  {
   "cell_type": "code",
   "execution_count": null,
   "metadata": {},
   "outputs": [],
   "source": []
  }
 ],
 "metadata": {
  "kernelspec": {
   "display_name": "Python [conda env:base] *",
   "language": "python",
   "name": "conda-base-py"
  },
  "language_info": {
   "codemirror_mode": {
    "name": "ipython",
    "version": 3
   },
   "file_extension": ".py",
   "mimetype": "text/x-python",
   "name": "python",
   "nbconvert_exporter": "python",
   "pygments_lexer": "ipython3",
   "version": "3.12.7"
  }
 },
 "nbformat": 4,
 "nbformat_minor": 4
}
