{
 "cells": [
  {
   "cell_type": "markdown",
   "metadata": {},
   "source": [
    "# Python-Operations on file contents"
   ]
  },
  {
   "cell_type": "markdown",
   "metadata": {},
   "source": [
    "Lets see some examples that helps us to carry out certain operations on the file contents like processing the contents of file."
   ]
  },
  {
   "cell_type": "markdown",
   "metadata": {},
   "source": [
    "<b> Example1 - finding a user defined word from the user defined file name<b>"
   ]
  },
  {
   "cell_type": "code",
   "execution_count": null,
   "metadata": {},
   "outputs": [],
   "source": [
    "file_name = input(\"Enter the file name \\n\")\n",
    "word = input(\"Enter word to be searched in file \")\n",
    "\n",
    "try:\n",
    "    file = open(file_name)\n",
    "    \n",
    "    for line in file:\n",
    "        if line.find(word) == -1:\n",
    "            continue\n",
    "        print(line)    \n",
    "    file.close()            \n",
    "except:\n",
    "    print(\"File \", file_name, \" not found.\")\n",
    "    \n",
    "  "
   ]
  },
  {
   "cell_type": "markdown",
   "metadata": {},
   "source": [
    "<b> Example 2 - Reading content from file doing data processing on it <b> "
   ]
  },
  {
   "cell_type": "markdown",
   "metadata": {},
   "source": [
    "The file marks.txt contains the marks of students for different evaluation components. Lets do the addition of the marks for each student and then determine whether he passed or failed (passing marks = 40)."
   ]
  },
  {
   "cell_type": "code",
   "execution_count": null,
   "metadata": {},
   "outputs": [],
   "source": [
    "file_name = \"marks.txt\"\n",
    "\n",
    "try:\n",
    "    file = open(file_name)\n",
    "    \n",
    "    names = []\n",
    "    assign_marks = []\n",
    "    midsem_marks = []\n",
    "    compre_marks = []\n",
    "    \n",
    "    for line in file:\n",
    "        words = line.split()\n",
    "        \n",
    "        names.append(words[0])\n",
    "        assign_marks.append(int(words[1]))\n",
    "        midsem_marks.append(int(words[2]))\n",
    "        compre_marks.append(int(words[3]))\n",
    "        \n",
    "    index = 0     \n",
    "    for name in names:\n",
    "        total_marks = assign_marks[index] + midsem_marks[index] + compre_marks[index]\n",
    "        if total_marks <= 40 :\n",
    "            print(\"Studnet \", name, \" failed to pass the exam.\", \" Total marks obtained = \", total_marks)\n",
    "        else:\n",
    "            print(\"Studnet \", name, \" passed the exam.\", \" Total marks obtained = \", total_marks)\n",
    "        print()\n",
    "        index = index + 1\n",
    "        \n",
    "    file.close()    \n",
    "        \n",
    "except:\n",
    "    print(\"Some issue with file processing.\")"
   ]
  },
  {
   "cell_type": "markdown",
   "metadata": {},
   "source": [
    "# Exercise "
   ]
  },
  {
   "cell_type": "markdown",
   "metadata": {},
   "source": [
    "Q1. Read the content of wordlist.txt file and determine <br>\n",
    "    - all three letter words \n",
    "    - the biggest word \n",
    "    - list of duplicate words"
   ]
  },
  {
   "cell_type": "code",
   "execution_count": null,
   "metadata": {},
   "outputs": [],
   "source": [
    "#Try it here\n"
   ]
  },
  {
   "cell_type": "markdown",
   "metadata": {},
   "source": [
    "Q2. You are given a file called users.txt that lists log-on and log-oof times for users of a system. A typical line of the file looks like this : <br>\n",
    "    Pravin,14:22,14.37<br>\n",
    "    Pawar,13.24,13.56<br>\n",
    "Each line has three entries separated by commas : a username, a log-on time and a log-off time. Times are given in 24-hour format. You may assume that all log-ons and log-offs occurs within a single workday. <br>\n",
    "Write a program that scans through the file and prints out all users who were online for at least an hour."
   ]
  },
  {
   "cell_type": "code",
   "execution_count": null,
   "metadata": {},
   "outputs": [],
   "source": [
    "#Try it here\n"
   ]
  },
  {
   "cell_type": "markdown",
   "metadata": {},
   "source": [
    "# Solution"
   ]
  },
  {
   "cell_type": "code",
   "execution_count": 1,
   "metadata": {},
   "outputs": [],
   "source": [
    "# Solution1\n"
   ]
  },
  {
   "cell_type": "code",
   "execution_count": 3,
   "metadata": {},
   "outputs": [],
   "source": [
    "# Solution2\n",
    "\n"
   ]
  },
  {
   "cell_type": "code",
   "execution_count": null,
   "metadata": {},
   "outputs": [],
   "source": []
  }
 ],
 "metadata": {
  "kernelspec": {
   "display_name": "Python [conda env:base] *",
   "language": "python",
   "name": "conda-base-py"
  },
  "language_info": {
   "codemirror_mode": {
    "name": "ipython",
    "version": 3
   },
   "file_extension": ".py",
   "mimetype": "text/x-python",
   "name": "python",
   "nbconvert_exporter": "python",
   "pygments_lexer": "ipython3",
   "version": "3.12.7"
  }
 },
 "nbformat": 4,
 "nbformat_minor": 4
}
